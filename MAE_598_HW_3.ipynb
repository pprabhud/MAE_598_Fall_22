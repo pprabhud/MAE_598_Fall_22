{
 "cells": [
  {
   "cell_type": "markdown",
   "id": "a2a056d9-c48d-4b0d-92da-3324ae924ea5",
   "metadata": {},
   "source": [
    "# MAE 598: Design Optimization - Homework 3"
   ]
  },
  {
   "cell_type": "markdown",
   "id": "6bc531db-1b3a-43f8-a7e5-f2b802be57a2",
   "metadata": {},
   "source": [
    "## Problem 1"
   ]
  },
  {
   "cell_type": "markdown",
   "id": "008a84e2-9ad2-4340-b8ef-8e8ebf9e5fc9",
   "metadata": {},
   "source": []
  },
  {
   "cell_type": "markdown",
   "id": "0d784065-e4f3-4fed-b9aa-b88b1dabd4d0",
   "metadata": {},
   "source": [
    "The objective function\n",
    "\n",
    "\n",
    "$$ {\\min_{A_{12}, A_{21}} \\quad (p(x_i, A) - p_m)^2 } $$\n",
    "\n",
    "where,\n",
    "\n",
    "$ p(x_i, A) $ is the output from the prediction model\n",
    "\n",
    "$ p_m $ is the measured value\n"
   ]
  },
  {
   "cell_type": "markdown",
   "id": "e9a5bc1f-49c9-43c4-b3ae-0c1e321e5032",
   "metadata": {},
   "source": []
  },
  {
   "cell_type": "markdown",
   "id": "5b42a8ac-c591-431d-8469-8f85c1ff2129",
   "metadata": {},
   "source": []
  },
  {
   "cell_type": "code",
   "execution_count": 19,
   "id": "2d37dd3e-7250-4d4f-8970-6369846a1012",
   "metadata": {},
   "outputs": [],
   "source": [
    "# Import libraries\n",
    "import torch as t\n",
    "import numpy as np\n",
    "import torch.nn as nn\n",
    "from matplotlib import pyplot as plt"
   ]
  },
  {
   "cell_type": "code",
   "execution_count": 20,
   "id": "67515144-1ce9-4700-af8a-8258dcc93077",
   "metadata": {},
   "outputs": [],
   "source": [
    "# Initialize all given data\n",
    "\n",
    "T = 20.0 # Temperature in °C\n",
    "\n",
    "# x1 and x2 values\n",
    "x1 = t.linspace(0., 1.0, 11, dtype=t.float32)\n",
    "x2 = 1 - x1\n",
    "\n",
    "# Measured pressure values\n",
    "pm = t.tensor([28.1, 34.4, 36.7, 36.9, 36.8, 36.7, 36.5, 35.4, 32.9, 27.7, 17.5], dtype=t.float32)\n",
    "\n",
    "# Constants a1, a2 and a3\n",
    "a = t.tensor([[8.07131, 1730.63, 233.426], \n",
    "              [7.43155, 1554.679, 240.337]], dtype=t.float32)"
   ]
  },
  {
   "cell_type": "code",
   "execution_count": 21,
   "id": "66d2e291-42f4-410a-b950-bd689de7f87a",
   "metadata": {},
   "outputs": [
    {
     "name": "stdout",
     "output_type": "stream",
     "text": [
      "Saturation pressures \n",
      "Water: 17.473241806030273 \n",
      "1,4 dioxane: 28.82411003112793 \n",
      "\n"
     ]
    }
   ],
   "source": [
    "# Calculate the saturation pressure\n",
    "pSat =  lambda a: 10.0 ** (a[0] - (a[1] / (T + a[2])))\n",
    "\n",
    "pSat1 = pSat(a[0,:]) # Water\n",
    "pSat2 = pSat(a[1,:]) # 1,4 dioxane\n",
    "print(f'Saturation pressures \\nWater: {pSat1} \\n1,4 dioxane: {pSat2} \\n')"
   ]
  },
  {
   "cell_type": "code",
   "execution_count": 22,
   "id": "c61649f1-2e55-4346-8fbf-8d344968e545",
   "metadata": {},
   "outputs": [],
   "source": [
    "# Define the pressure equilibrium relation\n",
    "def forward():\n",
    "    p = lambda A: (x1 * pSat1 * t.exp(A[0] * ((A[1] * x2) / (A[0] * x1 + A[1] * x2)) ** 2)) + (x2 * pSat2 * t.exp(A[1] * ((A[0] * x1) / (A[0] * x1 + A[1] * x2)) ** 2))\n",
    "    return p(A)"
   ]
  },
  {
   "cell_type": "code",
   "execution_count": 23,
   "id": "911d1e30-523a-4256-92dd-8f9394838924",
   "metadata": {},
   "outputs": [
    {
     "name": "stdout",
     "output_type": "stream",
     "text": [
      "epoch; 4 \t Loss: 26.069440841674805 \t A: tensor([1.1489, 1.1263], requires_grad=True)\n",
      "epoch; 9 \t Loss: 16.818958282470703 \t A: tensor([1.3114, 1.2693], requires_grad=True)\n",
      "epoch; 14 \t Loss: 10.23377799987793 \t A: tensor([1.4476, 1.3915], requires_grad=True)\n",
      "epoch; 19 \t Loss: 5.900332450866699 \t A: tensor([1.5579, 1.4910], requires_grad=True)\n",
      "epoch; 24 \t Loss: 3.2571768760681152 \t A: tensor([1.6444, 1.5685], requires_grad=True)\n",
      "epoch; 29 \t Loss: 1.7509592771530151 \t A: tensor([1.7103, 1.6264], requires_grad=True)\n",
      "epoch; 34 \t Loss: 0.9397298693656921 \t A: tensor([1.7595, 1.6680], requires_grad=True)\n",
      "epoch; 39 \t Loss: 0.5212108492851257 \t A: tensor([1.7957, 1.6969], requires_grad=True)\n",
      "epoch; 44 \t Loss: 0.31139126420021057 \t A: tensor([1.8222, 1.7162], requires_grad=True)\n",
      "epoch; 49 \t Loss: 0.20754508674144745 \t A: tensor([1.8416, 1.7287], requires_grad=True)\n",
      "epoch; 54 \t Loss: 0.15582802891731262 \t A: tensor([1.8560, 1.7362], requires_grad=True)\n",
      "epoch; 59 \t Loss: 0.1292543262243271 \t A: tensor([1.8669, 1.7404], requires_grad=True)\n",
      "epoch; 64 \t Loss: 0.11471056193113327 \t A: tensor([1.8753, 1.7423], requires_grad=True)\n",
      "epoch; 69 \t Loss: 0.1059592068195343 \t A: tensor([1.8820, 1.7427], requires_grad=True)\n",
      "epoch; 74 \t Loss: 0.10006310790777206 \t A: tensor([1.8874, 1.7422], requires_grad=True)\n",
      "epoch; 79 \t Loss: 0.09564917534589767 \t A: tensor([1.8919, 1.7410], requires_grad=True)\n",
      "epoch; 84 \t Loss: 0.09207260608673096 \t A: tensor([1.8959, 1.7394], requires_grad=True)\n",
      "epoch; 89 \t Loss: 0.08902202546596527 \t A: tensor([1.8994, 1.7376], requires_grad=True)\n",
      "epoch; 94 \t Loss: 0.08634252101182938 \t A: tensor([1.9025, 1.7356], requires_grad=True)\n",
      "epoch; 99 \t Loss: 0.08395303785800934 \t A: tensor([1.9053, 1.7337], requires_grad=True)\n"
     ]
    }
   ],
   "source": [
    "# Define initial parameters\n",
    "learnig_rate = 0.001\n",
    "max_iters = 100\n",
    "A = t.tensor([1., 1.], requires_grad=True) # Optimization variable\n",
    "\n",
    "# Define MSE loss function\n",
    "loss = nn.MSELoss(reduction='mean')\n",
    "# Select Stochastic Gradient Descent as the optimization method\n",
    "optimizer = t.optim.SGD([A], lr=learnig_rate)\n",
    "\n",
    "# Train the model\n",
    "for epochs in range(max_iters):\n",
    "    p_pred = forward() # Forward pass to calculate the predicted pressure value\n",
    "    cost = loss(pm, p_pred) # Compute the loss\n",
    "    \n",
    "    # Output the training parameters\n",
    "    if epochs % 5 == 4:\n",
    "        print(f'epoch; {epochs} \\t Loss: {cost} \\t A: {A}')\n",
    "\n",
    "    cost.backward() # Compute the gradient\n",
    "    optimizer.step() # Compute the next step, update A\n",
    "    optimizer.zero_grad() # Clear out the current gradient"
   ]
  },
  {
   "cell_type": "code",
   "execution_count": 24,
   "id": "8e09aaea-0aef-4825-a06d-bf2e6258b9f5",
   "metadata": {},
   "outputs": [
    {
     "name": "stdout",
     "output_type": "stream",
     "text": [
      "Predicted pressure values:\n",
      " [28.82411  34.41483  36.28128  36.746063 36.76391  36.64446  36.32486\n",
      " 35.422653 33.141857 28.024223 17.473242]\n",
      "\n",
      "Optimized values of A \n",
      "A12: 1.9058706760406494 \t A21: 1.7332605123519897\n"
     ]
    }
   ],
   "source": [
    "# Output results\n",
    "print(\"Predicted pressure values:\\n\", p_pred.detach().numpy())\n",
    "print(f\"\\nOptimized values of A \\nA12: {A[0].item()} \\t A21: {A[1].item()}\")"
   ]
  },
  {
   "cell_type": "code",
   "execution_count": 25,
   "id": "6d29405a-ea35-4e90-91f9-abf829c55878",
   "metadata": {},
   "outputs": [
    {
     "data": {
      "image/png": "[encoded data removed]",
      "text/plain": [
       "<Figure size 432x288 with 1 Axes>"
      ]
     },
     "metadata": {
      "needs_background": "light"
     },
     "output_type": "display_data"
    }
   ],
   "source": [
    "# Plot results\n",
    "plt.plot(x1, pm, 'rs-', label=\"Measured\")\n",
    "plt.plot(x1, p_pred.detach().numpy(), 'bv--', label=\"Predicted\")\n",
    "plt.xlabel('x1')\n",
    "plt.ylabel('Pressure')\n",
    "plt.title('Comparison of Model and Data')\n",
    "plt.legend()\n",
    "plt.show()"
   ]
  },
  {
   "cell_type": "code",
   "execution_count": null,
   "id": "0f4c9abc-3655-4b92-b5b8-d1d76d174c2d",
   "metadata": {},
   "outputs": [],
   "source": []
  },
  {
   "cell_type": "code",
   "execution_count": null,
   "id": "d912c044-1564-48e8-84bc-0a53bc3a3838",
   "metadata": {},
   "outputs": [],
   "source": []
  },
  {
   "cell_type": "code",
   "execution_count": null,
   "id": "d160d65e-5696-48e2-843b-199371a5cb2c",
   "metadata": {},
   "outputs": [],
   "source": []
  }
 ],
 "metadata": {
  "kernelspec": {
   "display_name": "Python 3 (ipykernel)",
   "language": "python",
   "name": "python3"
  },
  "language_info": {
   "codemirror_mode": {
    "name": "ipython",
    "version": 3
   },
   "file_extension": ".py",
   "mimetype": "text/x-python",
   "name": "python",
   "nbconvert_exporter": "python",
   "pygments_lexer": "ipython3",
   "version": "3.9.12"
  }
 },
 "nbformat": 4,
 "nbformat_minor": 5
}
