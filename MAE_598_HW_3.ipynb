{
 "cells": [
  {
   "cell_type": "markdown",
   "id": "a2a056d9-c48d-4b0d-92da-3324ae924ea5",
   "metadata": {},
   "source": [
    "# MAE 598: Design Optimization - Homework 3"
   ]
  },
  {
   "cell_type": "markdown",
   "id": "6bc531db-1b3a-43f8-a7e5-f2b802be57a2",
   "metadata": {},
   "source": [
    "## Problem 1"
   ]
  },
  {
   "cell_type": "markdown",
   "id": "008a84e2-9ad2-4340-b8ef-8e8ebf9e5fc9",
   "metadata": {},
   "source": []
  },
  {
   "cell_type": "markdown",
   "id": "0d784065-e4f3-4fed-b9aa-b88b1dabd4d0",
   "metadata": {},
   "source": [
    "The objective function\n",
    "\n",
    "\n",
    "$$ {\\min_{A_{12}, A_{21}} \\quad (p(x_i, A) - p)^2 } $$\n",
    "\n",
    "where,\n",
    "\n",
    "$ p(x_i, A) $ is the output from the prediction model\n",
    "\n",
    "$ p $ is the measured value\n"
   ]
  },
  {
   "cell_type": "markdown",
   "id": "e9a5bc1f-49c9-43c4-b3ae-0c1e321e5032",
   "metadata": {},
   "source": []
  },
  {
   "cell_type": "markdown",
   "id": "5b42a8ac-c591-431d-8469-8f85c1ff2129",
   "metadata": {},
   "source": []
  },
  {
   "cell_type": "code",
   "execution_count": 4,
   "id": "2d37dd3e-7250-4d4f-8970-6369846a1012",
   "metadata": {},
   "outputs": [],
   "source": [
    "import torch as t\n",
    "import numpy as np\n",
    "import torch.nn as nn\n",
    "from torch.autograd import Variable \n"
   ]
  },
  {
   "cell_type": "code",
   "execution_count": 11,
   "id": "67515144-1ce9-4700-af8a-8258dcc93077",
   "metadata": {},
   "outputs": [],
   "source": [
    "x1 = t.linspace(0., 1.0, 11)\n",
    "x2 = 1 - x1\n",
    "\n",
    "a = t.tensor([[8.07131, 1730.63, 233.426], \n",
    "              [7.43155, 1554.679, 240.337]])"
   ]
  },
  {
   "cell_type": "code",
   "execution_count": 12,
   "id": "66d2e291-42f4-410a-b950-bd689de7f87a",
   "metadata": {},
   "outputs": [
    {
     "data": {
      "text/plain": [
       "tensor([[   8.0713, 1730.6300,  233.4260],\n",
       "        [   7.4316, 1554.6790,  240.3370]])"
      ]
     },
     "execution_count": 12,
     "metadata": {},
     "output_type": "execute_result"
    }
   ],
   "source": [
    "a"
   ]
  },
  {
   "cell_type": "code",
   "execution_count": null,
   "id": "2b2f11f1-3c8d-4a80-ae73-26caca109c40",
   "metadata": {},
   "outputs": [],
   "source": []
  }
 ],
 "metadata": {
  "kernelspec": {
   "display_name": "Python 3 (ipykernel)",
   "language": "python",
   "name": "python3"
  },
  "language_info": {
   "codemirror_mode": {
    "name": "ipython",
    "version": 3
   },
   "file_extension": ".py",
   "mimetype": "text/x-python",
   "name": "python",
   "nbconvert_exporter": "python",
   "pygments_lexer": "ipython3",
   "version": "3.9.12"
  }
 },
 "nbformat": 4,
 "nbformat_minor": 5
}
