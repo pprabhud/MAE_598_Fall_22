{
 "cells": [
  {
   "cell_type": "markdown",
   "id": "a2a056d9-c48d-4b0d-92da-3324ae924ea5",
   "metadata": {},
   "source": [
    "# MAE 598: Design Optimization - Homework 3"
   ]
  },
  {
   "cell_type": "markdown",
   "id": "6bc531db-1b3a-43f8-a7e5-f2b802be57a2",
   "metadata": {},
   "source": [
    "## Problem 1"
   ]
  },
  {
   "cell_type": "markdown",
   "id": "008a84e2-9ad2-4340-b8ef-8e8ebf9e5fc9",
   "metadata": {},
   "source": [
    "Equilibrium pressure is given by\n",
    "\n",
    "equilibrium relation can be formulated as:\n",
    "\n",
    "$$ {p = x_1 \\exp\\Bigg(A_{12} \\ \\Big(\\frac{A_{21} \\ x_2}{A_{12} \\ x_1 \\ + \\ A_{21} \\ x_2}\\Big)^2\\Bigg) \\ p^{sat}_{1} \\ + \\\n",
    "        x_2 \\exp\\Bigg(A_{21} \\ \\Big(\\frac{A_{12} \\ x_1}{A_{12} \\ x_1 \\ + \\ A_{21} \\ x_2}\\Big)^2\\Bigg) \\ p^{sat}_{2}} $$\n",
    "        \n",
    "        \n",
    "Saturation pressure is given by\n",
    "\n",
    "$$ {\\log_{10}(p^{sat}) = a_1 - \\frac{a_2}{T + a_3}} $$\n",
    "\n",
    "$ p^{sat} $ is calculated by rearranging the above expression\n",
    "\n",
    "$$ { p^{sat} = 10^{\\displaystyle\\Big(a_1 - \\frac{a_2}{T + a_3}\\Big)}} $$\n",
    "\n",
    "\n",
    "Relation between $ x_1 $ and $ x_2 $ is given by\n",
    "\n",
    "$$ {x_1 + x_2 = 1 } $$\n",
    "\n",
    "$ x_2 $ caluculated from this expression and the given values of $ x_1 $\n"
   ]
  },
  {
   "cell_type": "markdown",
   "id": "0d784065-e4f3-4fed-b9aa-b88b1dabd4d0",
   "metadata": {},
   "source": [
    "The objective function\n",
    "\n",
    "\n",
    "$$ {\\min_{A_{12}, A_{21}} \\quad  \\displaystyle \\sum_{i=1}^{n=11}(p(x_i, A) - p_m)^2 } $$\n",
    "\n",
    "where,\n",
    "\n",
    "$ p(x_i, A) $ is the output from the prediction model\n",
    "\n",
    "$ p_m $ is the measured value\n",
    "\n",
    "The objective function is modeled using **MSELoss()** method from **torch.nn** module and the gradient descent is performed using **torch.optim.SGD()** (Stochastic Gradient Descent) optimizer in PyTorch."
   ]
  },
  {
   "cell_type": "code",
   "execution_count": 1,
   "id": "2d37dd3e-7250-4d4f-8970-6369846a1012",
   "metadata": {},
   "outputs": [],
   "source": [
    "# Import libraries\n",
    "import torch as t\n",
    "import numpy as np\n",
    "import torch.nn as nn\n",
    "from matplotlib import pyplot as plt"
   ]
  },
  {
   "cell_type": "code",
   "execution_count": 2,
   "id": "67515144-1ce9-4700-af8a-8258dcc93077",
   "metadata": {},
   "outputs": [],
   "source": [
    "# Initialize all given data\n",
    "\n",
    "T = 20.0 # Temperature in °C\n",
    "\n",
    "# x1 and x2 values\n",
    "x1 = t.linspace(0., 1.0, 11, dtype=t.float32)\n",
    "x2 = 1 - x1\n",
    "\n",
    "# Measured pressure values\n",
    "pm = t.tensor([28.1, 34.4, 36.7, 36.9, 36.8, 36.7, 36.5, 35.4, 32.9, 27.7, 17.5], dtype=t.float32)\n",
    "\n",
    "# Constants a1, a2 and a3\n",
    "a = t.tensor([[8.07131, 1730.63, 233.426], \n",
    "              [7.43155, 1554.679, 240.337]], dtype=t.float32)"
   ]
  },
  {
   "cell_type": "code",
   "execution_count": 3,
   "id": "66d2e291-42f4-410a-b950-bd689de7f87a",
   "metadata": {},
   "outputs": [
    {
     "name": "stdout",
     "output_type": "stream",
     "text": [
      "Saturation pressures \n",
      "Water: 17.473241806030273 \n",
      "1,4 dioxane: 28.82411003112793 \n",
      "\n"
     ]
    }
   ],
   "source": [
    "# Calculate the saturation pressure\n",
    "pSat =  lambda a: 10.0 ** (a[0] - (a[1] / (T + a[2])))\n",
    "\n",
    "pSat1 = pSat(a[0,:]) # Water\n",
    "pSat2 = pSat(a[1,:]) # 1,4 dioxane\n",
    "print(f'Saturation pressures \\nWater: {pSat1} \\n1,4 dioxane: {pSat2} \\n')"
   ]
  },
  {
   "cell_type": "code",
   "execution_count": 4,
   "id": "c61649f1-2e55-4346-8fbf-8d344968e545",
   "metadata": {},
   "outputs": [],
   "source": [
    "# Define the pressure equilibrium relation\n",
    "def forward():\n",
    "    p = lambda A: (x1 * pSat1 * t.exp(A[0] * ((A[1] * x2) / (A[0] * x1 + A[1] * x2)) ** 2)) + (x2 * pSat2 * t.exp(A[1] * ((A[0] * x1) / (A[0] * x1 + A[1] * x2)) ** 2))\n",
    "    return p(A)"
   ]
  },
  {
   "cell_type": "code",
   "execution_count": 16,
   "id": "911d1e30-523a-4256-92dd-8f9394838924",
   "metadata": {},
   "outputs": [
    {
     "name": "stdout",
     "output_type": "stream",
     "text": [
      "epoch; 9 \t Loss: 0.9369445443153381 \t A: tensor([1.9045, 1.7355], requires_grad=True)\n",
      "epoch; 19 \t Loss: 0.6986766457557678 \t A: tensor([1.9405, 1.7041], requires_grad=True)\n",
      "epoch; 29 \t Loss: 0.6733143925666809 \t A: tensor([1.9525, 1.6941], requires_grad=True)\n",
      "epoch; 39 \t Loss: 0.6705505847930908 \t A: tensor([1.9564, 1.6908], requires_grad=True)\n",
      "epoch; 49 \t Loss: 0.6702479124069214 \t A: tensor([1.9578, 1.6897], requires_grad=True)\n",
      "epoch; 59 \t Loss: 0.6702129244804382 \t A: tensor([1.9582, 1.6894], requires_grad=True)\n",
      "epoch; 69 \t Loss: 0.6702102422714233 \t A: tensor([1.9583, 1.6892], requires_grad=True)\n",
      "epoch; 79 \t Loss: 0.6702093482017517 \t A: tensor([1.9584, 1.6892], requires_grad=True)\n",
      "epoch; 89 \t Loss: 0.6702074408531189 \t A: tensor([1.9584, 1.6892], requires_grad=True)\n",
      "epoch; 99 \t Loss: 0.6702079176902771 \t A: tensor([1.9584, 1.6892], requires_grad=True)\n",
      "epoch; 109 \t Loss: 0.6702081561088562 \t A: tensor([1.9584, 1.6892], requires_grad=True)\n",
      "epoch; 119 \t Loss: 0.6702081561088562 \t A: tensor([1.9584, 1.6892], requires_grad=True)\n",
      "epoch; 129 \t Loss: 0.6702081561088562 \t A: tensor([1.9584, 1.6892], requires_grad=True)\n",
      "epoch; 139 \t Loss: 0.6702081561088562 \t A: tensor([1.9584, 1.6892], requires_grad=True)\n",
      "epoch; 149 \t Loss: 0.6702081561088562 \t A: tensor([1.9584, 1.6892], requires_grad=True)\n",
      "epoch; 159 \t Loss: 0.6702081561088562 \t A: tensor([1.9584, 1.6892], requires_grad=True)\n",
      "epoch; 169 \t Loss: 0.6702081561088562 \t A: tensor([1.9584, 1.6892], requires_grad=True)\n",
      "epoch; 179 \t Loss: 0.6702081561088562 \t A: tensor([1.9584, 1.6892], requires_grad=True)\n",
      "epoch; 189 \t Loss: 0.6702081561088562 \t A: tensor([1.9584, 1.6892], requires_grad=True)\n",
      "epoch; 199 \t Loss: 0.6702081561088562 \t A: tensor([1.9584, 1.6892], requires_grad=True)\n"
     ]
    }
   ],
   "source": [
    "# Define initial parameters\n",
    "learnig_rate = 0.001\n",
    "max_iters = 200\n",
    "A = t.tensor([0.1, 0.1], requires_grad=True) # Optimization variable A12 = A[0], A21 = [1]\n",
    "\n",
    "# Define MSE loss function\n",
    "loss = nn.MSELoss(reduction='sum')\n",
    "# Select Stochastic Gradient Descent as the optimization method\n",
    "optimizer = t.optim.SGD([A], lr=learnig_rate)\n",
    "\n",
    "# Train the model\n",
    "for epochs in range(max_iters):\n",
    "    p_pred = forward() # Forward pass to calculate the predicted pressure value\n",
    "    cost = loss(pm, p_pred) # Compute the loss\n",
    "    \n",
    "    # Output the training parameters\n",
    "    if epochs % 10 == 9:\n",
    "        print(f'epoch; {epochs} \\t Loss: {cost} \\t A: {A}')\n",
    "\n",
    "    cost.backward() # Compute the gradient\n",
    "    optimizer.step() # Compute the next step, update A\n",
    "    optimizer.zero_grad() # Clear out the current gradient"
   ]
  },
  {
   "cell_type": "code",
   "execution_count": 17,
   "id": "8e09aaea-0aef-4825-a06d-bf2e6258b9f5",
   "metadata": {},
   "outputs": [
    {
     "name": "stdout",
     "output_type": "stream",
     "text": [
      "Predicted pressure values:\n",
      " [28.82411  34.644318 36.452972 36.867317 36.874012 36.749836 36.39045\n",
      " 35.38482  32.94778  27.729994 17.473242]\n",
      "\n",
      "Optimized values of A \n",
      "A12: 1.958418369293213 \t A21: 1.6891862154006958\n"
     ]
    }
   ],
   "source": [
    "# Output results\n",
    "print(\"Predicted pressure values:\\n\", p_pred.detach().numpy())\n",
    "print(f\"\\nOptimized values of A \\nA12: {A[0].item()} \\t A21: {A[1].item()}\")"
   ]
  },
  {
   "cell_type": "code",
   "execution_count": 18,
   "id": "6d29405a-ea35-4e90-91f9-abf829c55878",
   "metadata": {},
   "outputs": [
    {
     "data": {
      "image/png": "[encoded data removed]",
      "text/plain": [
       "<Figure size 432x288 with 1 Axes>"
      ]
     },
     "metadata": {
      "needs_background": "light"
     },
     "output_type": "display_data"
    }
   ],
   "source": [
    "# Plot results\n",
    "plt.plot(x1, pm, 'rs-', label=\"Measured\")\n",
    "plt.plot(x1, p_pred.detach().numpy(), 'bv--', label=\"Predicted\")\n",
    "plt.xlabel('x1')\n",
    "plt.ylabel('Pressure')\n",
    "plt.title('Comparison of Model and Data')\n",
    "plt.legend()\n",
    "plt.show()"
   ]
  },
  {
   "cell_type": "code",
   "execution_count": null,
   "id": "0f4c9abc-3655-4b92-b5b8-d1d76d174c2d",
   "metadata": {},
   "outputs": [],
   "source": []
  },
  {
   "cell_type": "markdown",
   "id": "d86ea02c-269f-4960-8f9d-1cc059416cbc",
   "metadata": {},
   "source": [
    "## Problem 2"
   ]
  },
  {
   "cell_type": "markdown",
   "id": "6e12fbaf-93a7-44d7-8016-9d87a6052653",
   "metadata": {},
   "source": [
    "Objective function\n",
    "\n",
    "\n",
    "$$ {\\min_{x_{1}, x_{2}} \\quad  \\Big(4 - 2.1 x^2_1 + \\frac{x^4_1}{3}\\Big) \\ x^2_1 + x_1 x_2 + (-4 + 4 x^2_2) \\ x^2_2 } $$"
   ]
  },
  {
   "cell_type": "code",
   "execution_count": 21,
   "id": "6a1a31c8-dd2b-494d-9f5d-13806a7dbcfd",
   "metadata": {},
   "outputs": [],
   "source": [
    "# Import libraries\n",
    "import numpy as np\n",
    "import sklearn\n",
    "from matplotlib import pyplot as plt"
   ]
  },
  {
   "cell_type": "code",
   "execution_count": null,
   "id": "bfb893e1-be57-4571-9349-8a764f851064",
   "metadata": {},
   "outputs": [],
   "source": []
  }
 ],
 "metadata": {
  "kernelspec": {
   "display_name": "Python 3 (ipykernel)",
   "language": "python",
   "name": "python3"
  },
  "language_info": {
   "codemirror_mode": {
    "name": "ipython",
    "version": 3
   },
   "file_extension": ".py",
   "mimetype": "text/x-python",
   "name": "python",
   "nbconvert_exporter": "python",
   "pygments_lexer": "ipython3",
   "version": "3.9.12"
  }
 },
 "nbformat": 4,
 "nbformat_minor": 5
}
