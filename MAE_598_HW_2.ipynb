{
 "cells": [
  {
   "cell_type": "markdown",
   "id": "25aeb9c5-b709-45a7-a5a7-53d706b47178",
   "metadata": {},
   "source": [
    "# MAE 598: Design Optimization - Homework 2"
   ]
  },
  {
   "cell_type": "markdown",
   "id": "8e24039b-678f-440d-ae52-c9f8623285a0",
   "metadata": {
    "tags": []
   },
   "source": [
    "## Problem 1\n",
    "\n",
    "\n",
    "$$ {f(x_1, x_2) = 2x^2_1 - 4x_1x_2 + 1.5x^2_2 + x_2} $$\n",
    "\n",
    "\n",
    "Gradient of $ f(x_1, x_2) $ is:\n",
    "\n",
    "$$ {\n",
    "g(x_1, x_2) = \\begin{bmatrix}\n",
    "\\frac{\\partial f}{\\partial x_1}\\\\\n",
    "\\frac{\\partial f}{\\partial x_2}\n",
    "\\end{bmatrix}\n",
    " = \\begin{bmatrix}\n",
    "4x_1 - 4x_2\\\\\n",
    "-4x_1 + 3x_2 + 1\n",
    "\\end{bmatrix}\n",
    "} $$\n",
    "\n",
    "\n",
    "Hessian of $ f(x_1, x_2) $ is:\n",
    "$$ {H(x_1, x_2) = \\begin{bmatrix}\n",
    "\\frac{\\partial^2 f}{\\partial x^2_1} & \\frac{\\partial^2 f}{\\partial x_1x_2}\\\\\n",
    "\\frac{\\partial^2 f}{\\partial x_1x_2} & \\frac{\\partial^2 f}{\\partial x^2_2}\n",
    "\\end{bmatrix}\n",
    " = \\begin{bmatrix}\n",
    "4 & -4\\\\\n",
    "-4 & 3\n",
    "\\end{bmatrix}} $$\n",
    "\n"
   ]
  },
  {
   "cell_type": "code",
   "execution_count": null,
   "id": "3617d825-c79a-4191-a011-9bf281c5f0af",
   "metadata": {},
   "outputs": [],
   "source": []
  }
 ],
 "metadata": {
  "kernelspec": {
   "display_name": "Python 3 (ipykernel)",
   "language": "python",
   "name": "python3"
  },
  "language_info": {
   "codemirror_mode": {
    "name": "ipython",
    "version": 3
   },
   "file_extension": ".py",
   "mimetype": "text/x-python",
   "name": "python",
   "nbconvert_exporter": "python",
   "pygments_lexer": "ipython3",
   "version": "3.9.12"
  }
 },
 "nbformat": 4,
 "nbformat_minor": 5
}
