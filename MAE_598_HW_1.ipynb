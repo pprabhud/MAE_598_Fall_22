{
 "cells": [
  {
   "cell_type": "markdown",
   "id": "39e2ac46-c472-4e55-b8ae-84bccaaea250",
   "metadata": {},
   "source": [
    "# MAE 598: Design Optimization - Homework 1"
   ]
  },
  {
   "cell_type": "markdown",
   "id": "40750335-841c-4529-aa5a-38f65f26bea2",
   "metadata": {},
   "source": [
    "## Problem 1"
   ]
  },
  {
   "cell_type": "code",
   "execution_count": 1,
   "id": "bcac5c3b-c0f1-42da-84e6-f2c645f8510b",
   "metadata": {},
   "outputs": [],
   "source": [
    "from scipy.optimize import minimize"
   ]
  },
  {
   "cell_type": "code",
   "execution_count": 2,
   "id": "790bc488-c216-43b5-bbf1-1c9a967f63e0",
   "metadata": {},
   "outputs": [],
   "source": [
    "fun = lambda x: (x[0] - x[1])**2 + (x[1] + x[2] - 2)**2 + (x[3] - 1)**2 + (x[4] - 1)**2"
   ]
  },
  {
   "cell_type": "code",
   "execution_count": 9,
   "id": "fc2034c4-ba90-4715-b76e-fa10928bb52f",
   "metadata": {},
   "outputs": [],
   "source": [
    "cons = ({'type': 'eq', 'fun': lambda x: x[0] + 3 * x[1]},\n",
    "        {'type': 'eq', 'fun': lambda x: x[2] + x[3] - 2 * x[4]},\n",
    "        {'type': 'eq', 'fun': lambda x: x[1] - x[4]})"
   ]
  },
  {
   "cell_type": "code",
   "execution_count": 10,
   "id": "e17854c0-83a8-4579-b83f-57ebd86a3fe9",
   "metadata": {},
   "outputs": [],
   "source": [
    "bnds = ((-10, 10), (-10, 10), (-10, 10), (-10, 10), (-10, 10))"
   ]
  },
  {
   "cell_type": "code",
   "execution_count": 11,
   "id": "989903fa-8e53-44ac-b65f-aebc4890888e",
   "metadata": {},
   "outputs": [],
   "source": [
    "res = minimize(fun, (0, 0, 0, 0, 0), method='SLSQP', bounds=bnds, constraints=cons)"
   ]
  },
  {
   "cell_type": "code",
   "execution_count": 12,
   "id": "dade63ae-e08d-4f91-b31a-509d5fbdb486",
   "metadata": {},
   "outputs": [
    {
     "data": {
      "text/plain": [
       "     fun: 4.093023255813954\n",
       "     jac: array([-2.04651159, -0.18604648, -2.23255813, -2.23255813, -1.48837209])\n",
       " message: 'Optimization terminated successfully'\n",
       "    nfev: 20\n",
       "     nit: 3\n",
       "    njev: 3\n",
       "  status: 0\n",
       " success: True\n",
       "       x: array([-0.76744186,  0.25581395,  0.62790698, -0.11627907,  0.25581395])"
      ]
     },
     "execution_count": 12,
     "metadata": {},
     "output_type": "execute_result"
    }
   ],
   "source": [
    "res"
   ]
  },
  {
   "cell_type": "code",
   "execution_count": null,
   "id": "7e2f34ff-c840-4d69-a1d7-033438445421",
   "metadata": {},
   "outputs": [],
   "source": []
  }
 ],
 "metadata": {
  "kernelspec": {
   "display_name": "Python 3 (ipykernel)",
   "language": "python",
   "name": "python3"
  },
  "language_info": {
   "codemirror_mode": {
    "name": "ipython",
    "version": 3
   },
   "file_extension": ".py",
   "mimetype": "text/x-python",
   "name": "python",
   "nbconvert_exporter": "python",
   "pygments_lexer": "ipython3",
   "version": "3.9.12"
  }
 },
 "nbformat": 4,
 "nbformat_minor": 5
}
