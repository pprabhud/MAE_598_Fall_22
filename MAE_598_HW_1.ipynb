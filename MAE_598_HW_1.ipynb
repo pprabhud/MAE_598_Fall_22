{
 "cells": [
  {
   "cell_type": "markdown",
   "id": "39e2ac46-c472-4e55-b8ae-84bccaaea250",
   "metadata": {},
   "source": [
    "# MAE 598: Design Optimization - Homework 1"
   ]
  },
  {
   "cell_type": "markdown",
   "id": "40750335-841c-4529-aa5a-38f65f26bea2",
   "metadata": {},
   "source": [
    "## Problem 1"
   ]
  },
  {
   "cell_type": "code",
   "execution_count": 1,
   "id": "bcac5c3b-c0f1-42da-84e6-f2c645f8510b",
   "metadata": {},
   "outputs": [],
   "source": [
    "from scipy.optimize import minimize"
   ]
  },
  {
   "cell_type": "code",
   "execution_count": 2,
   "id": "790bc488-c216-43b5-bbf1-1c9a967f63e0",
   "metadata": {},
   "outputs": [],
   "source": [
    "# Objective function\n",
    "fun = lambda x: (x[0] - x[1])**2 + (x[1] + x[2] - 2)**2 + (x[3] - 1)**2 + (x[4] - 1)**2"
   ]
  },
  {
   "cell_type": "code",
   "execution_count": 9,
   "id": "fc2034c4-ba90-4715-b76e-fa10928bb52f",
   "metadata": {
    "tags": []
   },
   "outputs": [],
   "source": [
    "# Constraints\n",
    "cons = ({'type': 'eq', 'fun': lambda x: x[0] + 3 * x[1]},\n",
    "        {'type': 'eq', 'fun': lambda x: x[2] + x[3] - 2 * x[4]},\n",
    "        {'type': 'eq', 'fun': lambda x: x[1] - x[4]})"
   ]
  },
  {
   "cell_type": "code",
   "execution_count": 10,
   "id": "e17854c0-83a8-4579-b83f-57ebd86a3fe9",
   "metadata": {
    "tags": []
   },
   "outputs": [],
   "source": [
    "# Bounds\n",
    "bnds = ((-10, 10), (-10, 10), (-10, 10), (-10, 10), (-10, 10))"
   ]
  },
  {
   "cell_type": "markdown",
   "id": "c0446b7a-cd61-4dee-a69c-34336bfef96d",
   "metadata": {},
   "source": [
    "### Initial guess = [0.01, 0.01, 0.01, 0.01, 0.01]"
   ]
  },
  {
   "cell_type": "code",
   "execution_count": 36,
   "id": "989903fa-8e53-44ac-b65f-aebc4890888e",
   "metadata": {},
   "outputs": [],
   "source": [
    "# Initial guess\n",
    "x0 = (0.01, 0.01, 0.01, 0.01, 0.01)\n",
    "# Solve\n",
    "res = minimize(fun, x0, method='SLSQP', bounds=bnds, constraints=cons)"
   ]
  },
  {
   "cell_type": "code",
   "execution_count": 37,
   "id": "dade63ae-e08d-4f91-b31a-509d5fbdb486",
   "metadata": {},
   "outputs": [
    {
     "data": {
      "text/plain": [
       "     fun: 4.093023286960482\n",
       "     jac: array([-2.04660743, -0.18615168, -2.23275912, -2.23228526, -1.48834813])\n",
       " message: 'Optimization terminated successfully'\n",
       "    nfev: 25\n",
       "     nit: 4\n",
       "    njev: 4\n",
       "  status: 0\n",
       " success: True\n",
       "       x: array([-0.7674778 ,  0.25582593,  0.62779451, -0.11614265,  0.25582593])"
      ]
     },
     "execution_count": 37,
     "metadata": {},
     "output_type": "execute_result"
    }
   ],
   "source": [
    "res"
   ]
  },
  {
   "cell_type": "markdown",
   "id": "7124139d-c231-4de6-b54c-8d46afb4c744",
   "metadata": {},
   "source": [
    "### Initial guess = [1, 1, 1, 1, 1]"
   ]
  },
  {
   "cell_type": "code",
   "execution_count": 25,
   "id": "1e85aaf1-589e-46fb-8b9a-83af267c6f68",
   "metadata": {},
   "outputs": [],
   "source": [
    "# Initial guess\n",
    "x0 = (1, 1, 1, 1, 1)\n",
    "# Solve\n",
    "res = minimize(fun, x0, method='SLSQP', bounds=bnds, constraints=cons)"
   ]
  },
  {
   "cell_type": "code",
   "execution_count": 26,
   "id": "ad6de3a5-71fe-4206-aa8f-ffb78092c7e3",
   "metadata": {},
   "outputs": [
    {
     "data": {
      "text/plain": [
       "     fun: 4.09302326452976\n",
       "     jac: array([-2.04664832, -0.18578869, -2.23243701, -2.23257673, -1.48833793])\n",
       " message: 'Optimization terminated successfully'\n",
       "    nfev: 38\n",
       "     nit: 6\n",
       "    njev: 6\n",
       "  status: 0\n",
       " success: True\n",
       "       x: array([-0.76749312,  0.25583104,  0.62795044, -0.11628835,  0.25583104])"
      ]
     },
     "execution_count": 26,
     "metadata": {},
     "output_type": "execute_result"
    }
   ],
   "source": [
    "res"
   ]
  },
  {
   "cell_type": "markdown",
   "id": "b3bce92d-0e11-4788-a8bb-d281cf2c3bc6",
   "metadata": {},
   "source": [
    "### Initial gues: [100, 100, 100, 100, 100]"
   ]
  },
  {
   "cell_type": "code",
   "execution_count": 23,
   "id": "561e4e31-5088-481a-82e5-e810bbebfa7c",
   "metadata": {},
   "outputs": [],
   "source": [
    "# Initial guess\n",
    "x0 = (100, 100, 100, 100, 100)\n",
    "# Solve\n",
    "res = minimize(fun, x0, method='SLSQP', bounds=bnds, constraints=cons)"
   ]
  },
  {
   "cell_type": "code",
   "execution_count": 24,
   "id": "8efd42b1-ee50-42e5-8990-b629a1ff74a2",
   "metadata": {},
   "outputs": [
    {
     "data": {
      "text/plain": [
       "     fun: 4.093023258012402\n",
       "     jac: array([-2.04654074, -0.18606842, -2.23260909, -2.23248535, -1.48836482])\n",
       " message: 'Optimization terminated successfully'\n",
       "    nfev: 48\n",
       "     nit: 8\n",
       "    njev: 8\n",
       "  status: 0\n",
       " success: True\n",
       "       x: array([-0.76745276,  0.25581759,  0.62787785, -0.11624268,  0.25581759])"
      ]
     },
     "execution_count": 24,
     "metadata": {},
     "output_type": "execute_result"
    }
   ],
   "source": [
    "res"
   ]
  },
  {
   "cell_type": "markdown",
   "id": "01531ea9-6a16-4158-9ed5-61523390e0ed",
   "metadata": {},
   "source": [
    "### Observation:\n",
    "\n",
    "With a a few different initial guesses, it is observed that the final solution of X remains same upto 3 decimal places. The no. of iterations increases with larger values of initial guess.\n",
    "\n",
    "---"
   ]
  },
  {
   "cell_type": "markdown",
   "id": "57ad4ea0-2e9a-40d9-aa3c-382a1756ac29",
   "metadata": {},
   "source": [
    "## Problem 2"
   ]
  },
  {
   "cell_type": "markdown",
   "id": "d664d5b3-6740-412b-aaba-a5fc7a6369dc",
   "metadata": {},
   "source": [
    "$$ {f: R^n -> R} $$\n",
    "$$ {f(x) = b^Tx + x^TAx} $$"
   ]
  },
  {
   "cell_type": "markdown",
   "id": "dc680f06-7c4b-4e39-bd90-4a8e9f175942",
   "metadata": {},
   "source": [
    "### Part (a)\n",
    "Gradient of $ f(x) $ is:\n",
    "$$ {g(x) = b + 2Ax} $$\n",
    "\n",
    "Hessian of $ f(x) $ is:\n",
    "$$ {H(x) = 2A} $$\n",
    "\n",
    "---"
   ]
  },
  {
   "cell_type": "markdown",
   "id": "d13f9216-a578-4f72-8b24-0fb43b80c7f6",
   "metadata": {
    "tags": []
   },
   "source": [
    "### Part (b)\n",
    "Given:\n",
    "$$ {x_0 = 0} $$\n",
    "\n",
    "#### First order Taylor series expansion:\n",
    "$$ {f(x) = f(x_0) + \\left.g(x)^T\\right|_{x_0} . (x - x_0)} $$\n",
    "\n",
    "Substituting value of $ {x_0} $, we get:\n",
    "$$ {f(x) = 0 + (b + 2A . 0)^T . (x - 0)} $$\n",
    "\n",
    "Final form:\n",
    "$$ {f(x) = b^Tx} $$\n",
    "\n",
    "\n",
    "#### Second order Taylor series expansion:\n",
    "$$ {f(x) = f(x_0) +  \\left.g(x)^T\\right|_{x_0} . (x - x_0) + \\frac{1}{2} (x - x_0)^T . \\left.H(x)\\right|_{x_0} . (x - x_0)} $$\n",
    "\n",
    "Substituting value of $ {x_0} $, we get:\n",
    "$$ {f(x) = 0 + (b + 2A . 0)^T . (x - 0) + \\frac{1}{2} (x - 0)^T . 2A . (x - 0)} $$\n",
    "\n",
    "Final form:\n",
    "$$ {f(x) = b^Tx + x^TAx} $$\n",
    "\n"
   ]
  },
  {
   "cell_type": "markdown",
   "id": "c942858e-0e5a-4c4e-aa92-13ac646dc27c",
   "metadata": {},
   "source": [
    "#### Observations:\n",
    "\n",
    "The first order approximation returns the first term of the original function $ {f(x)} $. In comparison, the second order approximation returns the complete function.\n",
    "\n",
    "---"
   ]
  },
  {
   "cell_type": "markdown",
   "id": "9fac4780-097b-4fc7-b751-360ec3cc8ee1",
   "metadata": {},
   "source": [
    "### Part (c)\n",
    "\n",
    "For a square matrix $ A $ of order $ n $ to be positive definite, all the eigen values of A should be greater than or equal to zero.\n",
    "\n",
    "---"
   ]
  },
  {
   "cell_type": "markdown",
   "id": "44485c5c-baa5-4848-a0db-3009712b571c",
   "metadata": {},
   "source": [
    "### Part (d)\n",
    "\n",
    "For a square matrix $ A $ of order $ n $ to have a full rank, all column vectors of $ A $ should be linearly independant.\n",
    "\n",
    "---"
   ]
  },
  {
   "cell_type": "markdown",
   "id": "014bc541-bc9d-4c8a-9f79-7f29f9f3941d",
   "metadata": {},
   "source": [
    "### Part (e)\n",
    "\n",
    "For a system of equations given by $ Ax = b $, a unique solution for $ x $ exists if $ b $ is in the column space of $ A $.\n",
    "\n",
    "---"
   ]
  },
  {
   "cell_type": "markdown",
   "id": "36a1fd15-5cbb-4fc1-ab6f-ce0933af579b",
   "metadata": {},
   "source": [
    "## Problem 3"
   ]
  },
  {
   "cell_type": "markdown",
   "id": "da84998c-8552-47a5-9565-d901300c2e1c",
   "metadata": {},
   "source": [
    "Given:\n",
    "\n",
    "$ a_{ij} $ = nutrition value of type $ j $ for food type $ i $ \n",
    "\n",
    "$ b_j $ = nutrition value of type $ j $ needed for a month\n",
    "\n",
    "$ c_i $ = unit price of food type $ i $\n",
    "\n",
    "$ i $ = 1 to N\n",
    "\n",
    "$ j $ = 1 to M\n"
   ]
  },
  {
   "cell_type": "markdown",
   "id": "217a800a-3279-4e16-8315-3c757ccd1f68",
   "metadata": {},
   "source": [
    "Define:\n",
    "\n",
    "$ x_i $ = quantity of food type $ i $ "
   ]
  },
  {
   "cell_type": "markdown",
   "id": "df7a3639-aedb-4b9a-bab2-659b4806e0a8",
   "metadata": {},
   "source": [
    "#### Objective function\n",
    "\n",
    "Minimize $ x_1c_1 + x_2c_2 + .......... + x_Nc_N $\n",
    "\n",
    "This can be written in matrix form as:\n",
    "\n",
    "$ x^Tc $"
   ]
  },
  {
   "cell_type": "markdown",
   "id": "8b949b82-6743-4a19-8fbc-c0f6e8979ef6",
   "metadata": {
    "tags": []
   },
   "source": [
    "#### Subject to contraints\n",
    "\n",
    "$\n",
    "\\begin{bmatrix}\n",
    "a_{11}x_1 + & \\cdots & + a_{N1}x_N\\\\\n",
    "\\vdots & & \\vdots\\\\\n",
    "a_{1M}x_1 + & \\cdots & + a_{MN}x_N\n",
    "\\end{bmatrix}\n",
    "$\n",
    "$ \\ge $\n",
    "$\n",
    "\\begin{bmatrix}\n",
    "b_1\\\\\n",
    "\\vdots\\\\\n",
    "b_M\n",
    "\\end{bmatrix}\n",
    "$"
   ]
  },
  {
   "cell_type": "markdown",
   "id": "dd1576f8-61aa-4417-ba89-68053b96e020",
   "metadata": {},
   "source": [
    "$\n",
    "\\begin{bmatrix}\n",
    "a_{11} & \\cdots & a_{N1}\\\\\n",
    "\\vdots & & \\vdots\\\\\n",
    "a_{1M} & \\cdots & a_{MN}\n",
    "\\end{bmatrix}\n",
    "\\begin{bmatrix}\n",
    "x_1\\\\\n",
    "\\vdots\\\\\n",
    "x_N\n",
    "\\end{bmatrix}\n",
    "$ \n",
    "$ \\ge $\n",
    "$\n",
    "\\begin{bmatrix}\n",
    "b_1\\\\\n",
    "\\vdots\\\\\n",
    "b_M\n",
    "\\end{bmatrix}\n",
    "$\n",
    "\n",
    "This can be simplified as:\n",
    "\n",
    "$ a_{ji}x_i \\ge b_j $\n",
    "\n",
    "Written in matrix form as:\n",
    "\n",
    "$ a^Tx \\ge b $"
   ]
  },
  {
   "cell_type": "markdown",
   "id": "22aeb082-65bb-42aa-9cf4-58783e8cb1d4",
   "metadata": {},
   "source": [
    "#### Bounds\n",
    "\n",
    "$ x_i \\ge $ 0"
   ]
  },
  {
   "cell_type": "code",
   "execution_count": null,
   "id": "1db17cca-4541-438f-97fe-3be72b938a1c",
   "metadata": {},
   "outputs": [],
   "source": []
  }
 ],
 "metadata": {
  "kernelspec": {
   "display_name": "Python 3 (ipykernel)",
   "language": "python",
   "name": "python3"
  },
  "language_info": {
   "codemirror_mode": {
    "name": "ipython",
    "version": 3
   },
   "file_extension": ".py",
   "mimetype": "text/x-python",
   "name": "python",
   "nbconvert_exporter": "python",
   "pygments_lexer": "ipython3",
   "version": "3.9.12"
  }
 },
 "nbformat": 4,
 "nbformat_minor": 5
}
