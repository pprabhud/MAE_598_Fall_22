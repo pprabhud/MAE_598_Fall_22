{
 "cells": [
  {
   "cell_type": "markdown",
   "id": "39e2ac46-c472-4e55-b8ae-84bccaaea250",
   "metadata": {},
   "source": [
    "# MAE 598: Design Optimization - Homework 1"
   ]
  },
  {
   "cell_type": "markdown",
   "id": "40750335-841c-4529-aa5a-38f65f26bea2",
   "metadata": {},
   "source": [
    "## Problem 1"
   ]
  },
  {
   "cell_type": "code",
   "execution_count": 1,
   "id": "bcac5c3b-c0f1-42da-84e6-f2c645f8510b",
   "metadata": {},
   "outputs": [],
   "source": [
    "from scipy.optimize import minimize"
   ]
  },
  {
   "cell_type": "code",
   "execution_count": 2,
   "id": "790bc488-c216-43b5-bbf1-1c9a967f63e0",
   "metadata": {},
   "outputs": [],
   "source": [
    "# Objective function\n",
    "fun = lambda x: (x[0] - x[1])**2 + (x[1] + x[2] - 2)**2 + (x[3] - 1)**2 + (x[4] - 1)**2"
   ]
  },
  {
   "cell_type": "code",
   "execution_count": 9,
   "id": "fc2034c4-ba90-4715-b76e-fa10928bb52f",
   "metadata": {
    "tags": []
   },
   "outputs": [],
   "source": [
    "# Constraints\n",
    "cons = ({'type': 'eq', 'fun': lambda x: x[0] + 3 * x[1]},\n",
    "        {'type': 'eq', 'fun': lambda x: x[2] + x[3] - 2 * x[4]},\n",
    "        {'type': 'eq', 'fun': lambda x: x[1] - x[4]})"
   ]
  },
  {
   "cell_type": "code",
   "execution_count": 10,
   "id": "e17854c0-83a8-4579-b83f-57ebd86a3fe9",
   "metadata": {
    "tags": []
   },
   "outputs": [],
   "source": [
    "# Bounds\n",
    "bnds = ((-10, 10), (-10, 10), (-10, 10), (-10, 10), (-10, 10))"
   ]
  },
  {
   "cell_type": "markdown",
   "id": "c0446b7a-cd61-4dee-a69c-34336bfef96d",
   "metadata": {},
   "source": [
    "### Initial guess = [0.01, 0.01, 0.01, 0.01, 0.01]"
   ]
  },
  {
   "cell_type": "code",
   "execution_count": 36,
   "id": "989903fa-8e53-44ac-b65f-aebc4890888e",
   "metadata": {},
   "outputs": [],
   "source": [
    "# Initial guess\n",
    "x0 = (0.01, 0.01, 0.01, 0.01, 0.01)\n",
    "# Solve\n",
    "res = minimize(fun, x0, method='SLSQP', bounds=bnds, constraints=cons)"
   ]
  },
  {
   "cell_type": "code",
   "execution_count": 37,
   "id": "dade63ae-e08d-4f91-b31a-509d5fbdb486",
   "metadata": {},
   "outputs": [
    {
     "data": {
      "text/plain": [
       "     fun: 4.093023286960482\n",
       "     jac: array([-2.04660743, -0.18615168, -2.23275912, -2.23228526, -1.48834813])\n",
       " message: 'Optimization terminated successfully'\n",
       "    nfev: 25\n",
       "     nit: 4\n",
       "    njev: 4\n",
       "  status: 0\n",
       " success: True\n",
       "       x: array([-0.7674778 ,  0.25582593,  0.62779451, -0.11614265,  0.25582593])"
      ]
     },
     "execution_count": 37,
     "metadata": {},
     "output_type": "execute_result"
    }
   ],
   "source": [
    "res"
   ]
  },
  {
   "cell_type": "markdown",
   "id": "7124139d-c231-4de6-b54c-8d46afb4c744",
   "metadata": {},
   "source": [
    "### Initial guess = [1, 1, 1, 1, 1]"
   ]
  },
  {
   "cell_type": "code",
   "execution_count": 25,
   "id": "1e85aaf1-589e-46fb-8b9a-83af267c6f68",
   "metadata": {},
   "outputs": [],
   "source": [
    "# Initial guess\n",
    "x0 = (1, 1, 1, 1, 1)\n",
    "# Solve\n",
    "res = minimize(fun, x0, method='SLSQP', bounds=bnds, constraints=cons)"
   ]
  },
  {
   "cell_type": "code",
   "execution_count": 26,
   "id": "ad6de3a5-71fe-4206-aa8f-ffb78092c7e3",
   "metadata": {},
   "outputs": [
    {
     "data": {
      "text/plain": [
       "     fun: 4.09302326452976\n",
       "     jac: array([-2.04664832, -0.18578869, -2.23243701, -2.23257673, -1.48833793])\n",
       " message: 'Optimization terminated successfully'\n",
       "    nfev: 38\n",
       "     nit: 6\n",
       "    njev: 6\n",
       "  status: 0\n",
       " success: True\n",
       "       x: array([-0.76749312,  0.25583104,  0.62795044, -0.11628835,  0.25583104])"
      ]
     },
     "execution_count": 26,
     "metadata": {},
     "output_type": "execute_result"
    }
   ],
   "source": [
    "res"
   ]
  },
  {
   "cell_type": "markdown",
   "id": "b3bce92d-0e11-4788-a8bb-d281cf2c3bc6",
   "metadata": {},
   "source": [
    "### Initial gues: [100, 100, 100, 100, 100]"
   ]
  },
  {
   "cell_type": "code",
   "execution_count": 23,
   "id": "561e4e31-5088-481a-82e5-e810bbebfa7c",
   "metadata": {},
   "outputs": [],
   "source": [
    "# Initial guess\n",
    "x0 = (100, 100, 100, 100, 100)\n",
    "# Solve\n",
    "res = minimize(fun, x0, method='SLSQP', bounds=bnds, constraints=cons)"
   ]
  },
  {
   "cell_type": "code",
   "execution_count": 24,
   "id": "8efd42b1-ee50-42e5-8990-b629a1ff74a2",
   "metadata": {},
   "outputs": [
    {
     "data": {
      "text/plain": [
       "     fun: 4.093023258012402\n",
       "     jac: array([-2.04654074, -0.18606842, -2.23260909, -2.23248535, -1.48836482])\n",
       " message: 'Optimization terminated successfully'\n",
       "    nfev: 48\n",
       "     nit: 8\n",
       "    njev: 8\n",
       "  status: 0\n",
       " success: True\n",
       "       x: array([-0.76745276,  0.25581759,  0.62787785, -0.11624268,  0.25581759])"
      ]
     },
     "execution_count": 24,
     "metadata": {},
     "output_type": "execute_result"
    }
   ],
   "source": [
    "res"
   ]
  },
  {
   "cell_type": "markdown",
   "id": "01531ea9-6a16-4158-9ed5-61523390e0ed",
   "metadata": {},
   "source": [
    "### Observation:\n",
    "\n",
    "With a a few different initial guesses, it is observed that the final solution of X remains same upto 3 decimal places. The no. of iterations increases with larger values of initial guess."
   ]
  },
  {
   "cell_type": "markdown",
   "id": "57ad4ea0-2e9a-40d9-aa3c-382a1756ac29",
   "metadata": {},
   "source": [
    "## Problem 2"
   ]
  },
  {
   "cell_type": "markdown",
   "id": "d664d5b3-6740-412b-aaba-a5fc7a6369dc",
   "metadata": {},
   "source": [
    "$$ {f: R^n -> R} $$\n",
    "$$ {f(x) = b^Tx + x^TAx} $$"
   ]
  },
  {
   "cell_type": "markdown",
   "id": "dc680f06-7c4b-4e39-bd90-4a8e9f175942",
   "metadata": {},
   "source": [
    "### Part (a)\n",
    "Gradient of $ f(x) $ is:\n",
    "$$ {g(x) = bx + 2Ax} $$\n",
    "\n",
    "Hessian of $ f(x) $ is:\n",
    "$$ {g(x) = bx + 2Ax} $$"
   ]
  },
  {
   "cell_type": "code",
   "execution_count": null,
   "id": "46668099-9593-4ea0-9d73-c1a679913870",
   "metadata": {},
   "outputs": [],
   "source": [
    "### Part (b)\n",
    "\n",
    "$$ {g(x) = bx + 2Ax} $$"
   ]
  }
 ],
 "metadata": {
  "kernelspec": {
   "display_name": "Python 3 (ipykernel)",
   "language": "python",
   "name": "python3"
  },
  "language_info": {
   "codemirror_mode": {
    "name": "ipython",
    "version": 3
   },
   "file_extension": ".py",
   "mimetype": "text/x-python",
   "name": "python",
   "nbconvert_exporter": "python",
   "pygments_lexer": "ipython3",
   "version": "3.9.12"
  }
 },
 "nbformat": 4,
 "nbformat_minor": 5
}
