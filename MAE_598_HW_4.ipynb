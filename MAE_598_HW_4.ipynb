{
 "cells": [
  {
   "cell_type": "markdown",
   "id": "706924fe-edb5-495e-ae6b-83d60a7c4bae",
   "metadata": {},
   "source": [
    "# MAE 598: Design Optimization - Homework 3"
   ]
  },
  {
   "cell_type": "markdown",
   "id": "45526de2-5165-4002-be62-738f4c700656",
   "metadata": {},
   "source": [
    "## Problem 1"
   ]
  },
  {
   "cell_type": "markdown",
   "id": "18876731-fa41-4b17-a699-8ba6b13f6c30",
   "metadata": {},
   "source": [
    "## Problem 2"
   ]
  },
  {
   "cell_type": "markdown",
   "id": "625d03e1-61d6-4229-91a0-d8d913731608",
   "metadata": {},
   "source": [
    "## Problem 3"
   ]
  },
  {
   "cell_type": "markdown",
   "id": "32e52014-db0b-4b78-8aa4-6dcab96e959e",
   "metadata": {},
   "source": [
    "## Problem 4"
   ]
  },
  {
   "cell_type": "code",
   "execution_count": 1,
   "id": "33088a60-e391-4444-bf72-0c36aa0c23d1",
   "metadata": {},
   "outputs": [],
   "source": [
    "# Import libraries\n",
    "import torch as t\n",
    "import numpy as np\n",
    "import torch.nn as nn\n",
    "from matplotlib import pyplot as plt\n"
   ]
  },
  {
   "cell_type": "code",
   "execution_count": 4,
   "id": "1d643379-dd50-47bd-8008-8ee9ad96cb28",
   "metadata": {},
   "outputs": [],
   "source": [
    "# Define the function\n",
    "f = lambda x: x[0] ** 2 + x[1] ** 2 + x[2] ** 2\n",
    "# Define the constraints\n",
    "h1 = lambda x: ((x[0] ** 2) / 4) + ((x[1] ** 2) / 5) + ((x[2] ** 2) / 25) - 1\n",
    "h2 = lambda x: x[0] + x[1] - x[2]\n",
    "\n",
    "\"\"\"\n",
    "Decision variable: x[0]\n",
    "State variables: x[1], x[2]\n",
    "\"\"\"\n",
    "\n",
    "# Reduced Gradient\n",
    "dfdd = lambda x: ((-5 * x[0] * x[2]) + (-21 * x[0] * x[2]) + (16 * x[1] * x[2])) / (10 * x[1] + 2 * x[2])"
   ]
  },
  {
   "cell_type": "code",
   "execution_count": null,
   "id": "9ed5c28a-294c-4d48-b4ab-073dae868eb9",
   "metadata": {},
   "outputs": [],
   "source": []
  },
  {
   "cell_type": "code",
   "execution_count": null,
   "id": "f1c8e12b-60d7-4349-a149-aa3479122d7f",
   "metadata": {},
   "outputs": [],
   "source": []
  },
  {
   "cell_type": "code",
   "execution_count": null,
   "id": "e9b72772-a115-4351-950a-b8082698478f",
   "metadata": {},
   "outputs": [],
   "source": []
  },
  {
   "cell_type": "markdown",
   "id": "a9d7a7fa-9aeb-4402-852b-b6d9693b7fae",
   "metadata": {},
   "source": [
    "## Problem 5"
   ]
  },
  {
   "cell_type": "code",
   "execution_count": null,
   "id": "24e2eacf-4bc7-4691-83b6-47245ea6269b",
   "metadata": {},
   "outputs": [],
   "source": []
  },
  {
   "cell_type": "code",
   "execution_count": null,
   "id": "60ef95de-8563-4112-8c40-160930de8e26",
   "metadata": {},
   "outputs": [],
   "source": []
  }
 ],
 "metadata": {
  "kernelspec": {
   "display_name": "Python 3 (ipykernel)",
   "language": "python",
   "name": "python3"
  },
  "language_info": {
   "codemirror_mode": {
    "name": "ipython",
    "version": 3
   },
   "file_extension": ".py",
   "mimetype": "text/x-python",
   "name": "python",
   "nbconvert_exporter": "python",
   "pygments_lexer": "ipython3",
   "version": "3.9.12"
  }
 },
 "nbformat": 4,
 "nbformat_minor": 5
}
