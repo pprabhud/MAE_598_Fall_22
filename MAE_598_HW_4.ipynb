{
 "cells": [
  {
   "cell_type": "markdown",
   "id": "706924fe-edb5-495e-ae6b-83d60a7c4bae",
   "metadata": {},
   "source": [
    "# MAE 598: Design Optimization - Homework 4"
   ]
  },
  {
   "cell_type": "markdown",
   "id": "45526de2-5165-4002-be62-738f4c700656",
   "metadata": {},
   "source": [
    "## Problem 1"
   ]
  },
  {
   "cell_type": "markdown",
   "id": "18876731-fa41-4b17-a699-8ba6b13f6c30",
   "metadata": {},
   "source": [
    "## Problem 2"
   ]
  },
  {
   "cell_type": "markdown",
   "id": "625d03e1-61d6-4229-91a0-d8d913731608",
   "metadata": {},
   "source": [
    "## Problem 3"
   ]
  },
  {
   "cell_type": "markdown",
   "id": "cc63c603-2aaf-42a0-9a5d-00389ceb9ee2",
   "metadata": {
    "tags": []
   },
   "source": [
    "To maximize the given objective function, we formulate a minimization problem for the negative of the given function.\n",
    "\n",
    "Objective function\n",
    "\n",
    "$$ \\min_{x_{1}, x_{2}, x_{3}} \\quad f(x) = - x_{1} x_{2} - x_{2} x_{3} - x_{1} x_{3} $$\n",
    "\n",
    "$$ s.t. \\quad h(x) = x_{1} + x_{2} + x_{3} - 3 = 0 $$"
   ]
  },
  {
   "cell_type": "markdown",
   "id": "9ca35c1b-9897-457e-a7b4-97d023c9ae93",
   "metadata": {},
   "source": [
    "Formulate the Langrangian\n",
    "\n",
    "$$ \\mathcal{L} = - x_{1} x_{2} - x_{2} x_{3} - x_{1} x_{3} + \\lambda_1 (x_{1} + x_{2} + x_{3} - 3) $$\n",
    "\n",
    "\n",
    "$${\n",
    "\\nabla_x \\mathcal{L} \n",
    "=\n",
    "\\begin{bmatrix}\n",
    "- x_2 - x_3 + \\lambda_1 \\\\\n",
    "- x_1 - x_3 + \\lambda_1 \\\\\n",
    "- x_2 - x_1 + \\lambda_1\n",
    "\\end{bmatrix}\n",
    "=\n",
    "\\begin{bmatrix}\n",
    "0 \\\\\n",
    "0 \\\\\n",
    "0\n",
    "\\end{bmatrix}\n",
    "}$$\n",
    "\n",
    "$${\n",
    "\\nabla_\\lambda \\mathcal{L} \n",
    "=\n",
    "x_{1} + x_{2} + x_{3} - 3 = 0\n",
    "}$$\n",
    "\n",
    "Solving the four euqations above, we get:\n",
    "\n",
    "$${ \n",
    "x_{1} = x_{2} = x_{3}  = 1 \\\\\n",
    "\\lambda = 2\n",
    "}$$\n",
    "\n",
    "\n",
    "Computing the Hessian of the Lagrangian\n",
    "\n",
    "$$\n",
    "\\mathcal{L} _{xx}\n",
    "=\n",
    "\\displaystyle\n",
    "\\begin{bmatrix}\n",
    "0 & - 1 & - 1 \\\\\n",
    "-1 & 0 & -1 \\\\\n",
    "-1 & -1 & 0 \n",
    "\\end{bmatrix}\n",
    "$$\n"
   ]
  },
  {
   "cell_type": "markdown",
   "id": "eacf9ef0-d103-48f7-a183-dfdd27f2bfe3",
   "metadata": {},
   "source": [
    "Checking Second Order sufficient conditions\n",
    "\n",
    "\n",
    "$$\n",
    "d_x^T \\ \\mathcal{L} _{xx} \\ d_x\n",
    "=\n",
    "\\begin{bmatrix}\n",
    "dx_1 & dx_2 & dx_3\n",
    "\\end{bmatrix}\n",
    "\\quad\n",
    "\\begin{bmatrix}\n",
    "0 & - 1 & - 1 \\\\\n",
    "-1 & 0 & -1 \\\\\n",
    "-1 & -1 & 0 \n",
    "\\end{bmatrix}\n",
    "\\quad\n",
    "\\begin{bmatrix}\n",
    "dx_1 \\\\\n",
    "dx_2 \\\\\n",
    "dx_3\n",
    "\\end{bmatrix}\n",
    "\\quad\n",
    "=\n",
    "\\quad\n",
    "- 2 dx_{1} dx_{2} - 2 dx_{2} dx_{3} - 2 dx_{1} dx_{3}\n",
    "\\\\\n",
    "$$\n",
    "\n",
    "\n",
    "\n",
    "$$\n",
    "\\\\\n",
    "\\frac{\\partial{h}}{\\partial{x}} dx = 0\n",
    "\\\\\n",
    "\\begin{bmatrix}\n",
    "\\frac{\\partial{h}}{\\partial{x_1}} & \\frac{\\partial{h}}{\\partial{x_2}} & \\frac{\\partial{h}}{\\partial{x_3}}\n",
    "\\end{bmatrix}\n",
    "\\quad\n",
    "\\begin{bmatrix}\n",
    "dx_1 \\\\\n",
    "dx_2 \\\\\n",
    "dx_3\n",
    "\\end{bmatrix}\n",
    "\\quad\n",
    "=\n",
    "\\quad\n",
    "\\begin{bmatrix}\n",
    "1 & 1 & 1\n",
    "\\end{bmatrix}\n",
    "\\quad\n",
    "\\begin{bmatrix}\n",
    "dx_1 \\\\\n",
    "dx_2 \\\\\n",
    "dx_3\n",
    "\\end{bmatrix}\n",
    "\\quad\n",
    "=\n",
    "\\quad\n",
    "0\n",
    "$$\n",
    "\n",
    "\n",
    "\n",
    "$$\n",
    "dx_1 + dx_2 + dx_3 = 0\n",
    "\\\\\n",
    "dx_1 = - dx_2 - dx_3\n",
    "$$\n",
    "\n",
    "Substituting this result into the first condition, we get:\n",
    "$$\n",
    "d_x^T \\ \\mathcal{L} _{xx} \\ d_x\n",
    "\\quad\n",
    "=\n",
    "\\quad\n",
    "- 2 \\ (- dx_2 - dx_3) \\ dx_{2} - 2 \\ dx_{2} \\ dx_{3} - 2 \\ (- dx_2 - dx_3) \\ dx_{3}\n",
    "\\quad\n",
    "=\n",
    "\\quad\n",
    "- 2 \\ (- dx_2^2 - dx_{2} dx_{3} - dx_{2} dx_{3} - dx_{3}^2 + dx_{2} dx_{3})\n",
    "\\quad\n",
    "=\n",
    "\\quad\n",
    "2 \\ dx_2^2 + 2 \\ dx_{3}^2 + 2 \\ dx_{2} dx_{3}\n",
    "\\\\\n",
    "$$\n",
    "\n",
    "\n",
    "$$\n",
    "d_x^T \\ \\mathcal{L} _{xx} \\ d_x\n",
    "\\quad\n",
    "=\n",
    "\\quad\n",
    "2 \\ \\Big[(dx_{2} + \\frac{dx_{3}}{2})^2 + \\frac{3 \\ dx_{3}^2}{4}\\Big] \\ge 0\n",
    "\\\\\n",
    "$$\n",
    "\n",
    "\n",
    "If $ dx_{2} = 0 $ and $ dx_{3} = 0 $, then from the second condition $ dx_{1} = 0 $ as well. This does not produce a valid perturbation.\n",
    "\n",
    "\n",
    "$$\n",
    "\\therefore\n",
    "d_x^T \\ \\mathcal{L} _{xx} \\ d_x\n",
    "=\n",
    "2 \\ \\Big[(dx_{2} + \\frac{dx_{3}}{2})^2 + \\frac{3 \\ dx_{3}^2}{4}\\Big] > 0\n",
    "\\\\\n",
    "$$\n",
    "when $ dx $ is feasible.\n",
    "\n",
    "The solution $ x = [1, 1, 1] $ is an optimal solution."
   ]
  },
  {
   "cell_type": "markdown",
   "id": "7ea3b627-a5e6-42d6-9b22-3050d78fa50d",
   "metadata": {
    "tags": []
   },
   "source": []
  },
  {
   "cell_type": "markdown",
   "id": "32e52014-db0b-4b78-8aa4-6dcab96e959e",
   "metadata": {},
   "source": [
    "## Problem 4"
   ]
  },
  {
   "cell_type": "code",
   "execution_count": 1,
   "id": "33088a60-e391-4444-bf72-0c36aa0c23d1",
   "metadata": {},
   "outputs": [],
   "source": [
    "# Import libraries\n",
    "import torch as t\n",
    "import numpy as np\n",
    "from matplotlib import pyplot as plt\n",
    "\n",
    "import torch.nn as nn\n",
    "from torch.autograd import Variable\n",
    "from torch.autograd.functional import jacobian"
   ]
  },
  {
   "cell_type": "code",
   "execution_count": 93,
   "id": "f1c8e12b-60d7-4349-a149-aa3479122d7f",
   "metadata": {
    "tags": []
   },
   "outputs": [],
   "source": [
    "# Part 1\n",
    "\"\"\"\n",
    "Decision variable: x0\n",
    "State variables: x1, x2\n",
    "\"\"\"\n",
    "\n",
    "m = 2\n",
    "n = 3\n",
    "\n",
    "def f(x):\n",
    "    f = lambda x: x[0] ** 2 + x[1] ** 2 + x[2] ** 2\n",
    "    # Define the constraints\n",
    "    h1 = lambda x: ((x[0] ** 2) / 4) + ((x[1] ** 2) / 5) + ((x[2] ** 2) / 25) - 1\n",
    "    h2 = lambda x: x[0] + x[1] - x[2]\n",
    "    \n",
    "    return f(x), h1(x), h2(x)\n",
    "\n",
    "# Part 2\n",
    "#Defining input tensor\n",
    "x = Variable(t.tensor([1., 1., 1.], dtype=t.float64), requires_grad=True)\n",
    "\n",
    "# Reduced Gradient (Analytically computed)\n",
    "dfdd_analytical = lambda x: ((-5 * x[0] * x[2]) + (-21 * x[0] * x[2]) + (16 * x[1] * x[2])) / (10 * x[1] + 2 * x[2])"
   ]
  },
  {
   "cell_type": "code",
   "execution_count": 3,
   "id": "80a490ab-18e9-4441-9c4e-c85d2fff9e20",
   "metadata": {},
   "outputs": [],
   "source": [
    "# Compute Jacobian\n",
    "def jac(x, n=n):\n",
    "    J = t.zeros((n, n))\n",
    "    for i in range(n):\n",
    "       J[i] =  jacobian(f, (x))[i]\n",
    "    return J\n",
    "\n",
    "# Evaluate Constraints\n",
    "def hFunc(x, m=m, n=n):\n",
    "    H = t.zeros((m, 1))\n",
    "    for i in range(m):\n",
    "        # print(n-m+r)\n",
    "        H[i] =  f(x)[n-m+i]\n",
    "        # print(f(x)[n-m+r])\n",
    "    return H\n"
   ]
  },
  {
   "cell_type": "code",
   "execution_count": 4,
   "id": "3edb4881-6c8e-4e5e-84c4-64890fce4d7d",
   "metadata": {},
   "outputs": [
    {
     "name": "stdout",
     "output_type": "stream",
     "text": [
      "Reduced gradient: tensor(-0.8333)\n",
      "Analytical calculation tensor(-0.8333, dtype=torch.float64, grad_fn=<DivBackward0>)\n"
     ]
    }
   ],
   "source": [
    "# Part 3\n",
    "# Reduced gradient\n",
    "dfdd = lambda J: J[0,0] - J[0,1:] @ t.pinverse(J[1:,1:]) @ J[1:,0]\n",
    "\n",
    "print('Reduced gradient:', dfdd(jac(x)))\n",
    "print('Analytical calculation', dfdd_analytical(x))"
   ]
  },
  {
   "cell_type": "code",
   "execution_count": 5,
   "id": "0c0f778e-20cd-4ca8-be10-1d15411c98dc",
   "metadata": {},
   "outputs": [],
   "source": [
    "def LMSolve(x, m=m, n=n, epochs=60, Lambda=1.):      \n",
    "    for i in range(epochs):\n",
    "        H = hFunc(x)\n",
    "        J =  jac(x)\n",
    "        delta = t.pinverse(J[n-m:, n-m:].T @ J[n-m:, n-m:] + Lambda * t.eye(m)) @ J[n-m:, n-m:].T @ H\n",
    "        with t.no_grad():\n",
    "            x[n-m:] = x[n-m:] - delta.T\n",
    "        e = t.norm(H)\n",
    "    return x"
   ]
  },
  {
   "cell_type": "code",
   "execution_count": 8,
   "id": "b352daad-4b12-422a-bff0-0e7a1334aa5d",
   "metadata": {
    "tags": []
   },
   "outputs": [],
   "source": [
    "def updateX(x, alpha):\n",
    "    xn = t.zeros(3)\n",
    "    J = jac(x)\n",
    "    xn[0] = x[0] - alpha * dfdd(J)\n",
    "    xn[1:] = x[1:] + (alpha * t.pinverse(J[1:,1:]) @ J[1:,0].reshape(2,-1) *  dfdd(J)).T[0]\n",
    "    return xn\n",
    "\n",
    "\n",
    "def lineSearch(x, t0=0.5, K=25):\n",
    "    alpha = 1\n",
    "    i = 0\n",
    "    \n",
    "    func = f(updateX(x, alpha))[0]\n",
    "    phi = f(x)[0] - (t0 * alpha * dfdd(jac(x)) ** 2)\n",
    "    \n",
    "    while func > phi and i < K:\n",
    "        alpha = 0.5 * alpha\n",
    "        func = f(updateX(x, alpha))[0]\n",
    "        phi = f(x)[0] - (t0 * alpha * dfdd(jac(x)) ** 2)\n",
    "\n",
    "        i += 1\n",
    "    return alpha"
   ]
  },
  {
   "cell_type": "code",
   "execution_count": 62,
   "id": "e9b72772-a115-4351-950a-b8082698478f",
   "metadata": {
    "tags": []
   },
   "outputs": [],
   "source": [
    "# Part 4\n",
    "# Initialization\n",
    "def GRG(x):\n",
    "    e = t.norm(dfdd(jac(x)))\n",
    "    tol = 1e-3 # Error threshold\n",
    "\n",
    "    xSol = x.detach().numpy()\n",
    "    fVal = [f(x)[0].item()]\n",
    "    alphaSol = [1]\n",
    "    eVal = [e]\n",
    "\n",
    "    k = 0\n",
    "    while e > tol:\n",
    "        # Part 4.1\n",
    "        # Inexact line search\n",
    "        alpha = lineSearch(x)\n",
    "\n",
    "        # Part 4.2 and 4.3\n",
    "        J = jac(x) \n",
    "        with t.no_grad():\n",
    "            x[0] = x[0] - alpha * dfdd(J)\n",
    "            x[1:] = x[1:] + (alpha * t.pinverse(J[1:,1:]) @ J[1:,0].reshape(2,-1) *  dfdd(J)).T[0]\n",
    "\n",
    "        # Part 4.4\n",
    "        # LM Solver\n",
    "        x = LMSolve(x)\n",
    "\n",
    "        # Part 4.5\n",
    "        e = t.norm(dfdd(jac(x)))\n",
    "        \n",
    "        xSol = np.vstack((xSol, x.detach().numpy())) # Record x values in each iteration\n",
    "        fVal.append(f(x)[0].item()) # Record f values in each iteration\n",
    "        alphaSol.append(alpha) # Record alpha values in each iteration\n",
    "        eVal.append(e)\n",
    "\n",
    "        k += 1\n",
    "        print (f\"Iteration: {k:<5} Alpha: {alpha:<10} x: {str(x.detach().numpy()) :<40} f(x): {fVal[k]:<20} Error: {e:<20}\")\n",
    "    return xSol, fVal, alphaSol, eVal\n"
   ]
  },
  {
   "cell_type": "code",
   "execution_count": 75,
   "id": "d0cee21f-76e1-4bae-9976-ba0ca824ecfe",
   "metadata": {},
   "outputs": [
    {
     "name": "stdout",
     "output_type": "stream",
     "text": [
      "Feasible starting point:  tensor([0.1000, 2.0217, 2.1217], dtype=torch.float64, requires_grad=True)\n",
      "Reduced gradient: tensor(2.5823)\n",
      "Analytical calculation\n",
      " tensor(2.5803, dtype=torch.float64, grad_fn=<DivBackward0>)\n",
      "\n",
      "GRG\n",
      "\n",
      "Iteration: 1     Alpha: 0.25       x: [-0.54557415  2.04420139  1.49862724]    f(x): 6.722294098143511    Error: 3.0616188049316406  \n",
      "Iteration: 2     Alpha: 0.125      x: [-0.9282765   1.92936347  1.00108697]    f(x): 5.5863157917200255   Error: 2.7880258560180664  \n",
      "Iteration: 3     Alpha: 0.125      x: [-1.27677974  1.71018273  0.43340305]    f(x): 4.742729666089317    Error: 1.9143002033233643  \n",
      "Iteration: 4     Alpha: 0.0625     x: [-1.3964235   1.59823557  0.20181213]    f(x): 4.545083659483026    Error: 1.3571269512176514  \n",
      "Iteration: 5     Alpha: 0.0625     x: [-1.48124393  1.50243396  0.02119016]    f(x): 4.451840411348006    Error: 0.8160951137542725  \n",
      "Iteration: 6     Alpha: 0.0625     x: [-1.53224988  1.4364645  -0.09578523]    f(x): 4.420394752787838    Error: 0.40369129180908203 \n",
      "Iteration: 7     Alpha: 0.03125    x: [-1.54486523  1.41900361 -0.1258616 ]    f(x): 4.416020976915923    Error: 0.28841662406921387 \n",
      "Iteration: 8     Alpha: 0.03125    x: [-1.55387825  1.40622466 -0.14765358]    f(x): 4.413806990349655    Error: 0.20231342315673828 \n",
      "Iteration: 9     Alpha: 0.03125    x: [-1.56020054  1.39710335 -0.16309719]    f(x): 4.412724195138158    Error: 0.1399238109588623  \n",
      "Iteration: 10    Alpha: 0.03125    x: [-1.56457316  1.39071685 -0.17385631]    f(x): 4.4122085571311045   Error: 0.09577131271362305 \n",
      "Iteration: 11    Alpha: 0.03125    x: [-1.56756602  1.38630809 -0.18125793]    f(x): 4.411967765075608    Error: 0.0650627613067627  \n",
      "Iteration: 12    Alpha: 0.03125    x: [-1.56959923  1.38329535 -0.18630388]    f(x): 4.411856884784105    Error: 0.043967247009277344\n",
      "Iteration: 13    Alpha: 0.03125    x: [-1.5709732   1.38125129 -0.18972192]    f(x): 4.411806327630644    Error: 0.02960515022277832 \n",
      "Iteration: 14    Alpha: 0.03125    x: [-1.57189837  1.3798712  -0.19202717]    f(x): 4.411783430305542    Error: 0.019883155822753906\n",
      "Iteration: 15    Alpha: 0.03125    x: [-1.57251971  1.37894263 -0.19357709]    f(x): 4.411773108992794    Error: 0.013333559036254883\n",
      "Iteration: 16    Alpha: 0.03125    x: [-1.57293639  1.37831917 -0.19461722]    f(x): 4.411768470324686    Error: 0.008928298950195312\n",
      "Iteration: 17    Alpha: 0.03125    x: [-1.5732154   1.37790135 -0.19531405]    f(x): 4.411766390680494    Error: 0.005975961685180664\n",
      "Iteration: 18    Alpha: 0.0625     x: [-1.57358889  1.3773416  -0.19624729]    f(x): 4.411764897899219    Error: 0.0020165443420410156\n",
      "Iteration: 19    Alpha: 0.125      x: [-1.57384096  1.37696356 -0.1968774 ]    f(x): 4.411764726440828    Error: 0.0006597042083740234\n",
      "\n",
      "Convergence plot\n",
      "\n"
     ]
    },
    {
     "data": {
      "image/png": "[encoded data removed]",
      "text/plain": [
       "<Figure size 432x288 with 1 Axes>"
      ]
     },
     "metadata": {
      "needs_background": "light"
     },
     "output_type": "display_data"
    }
   ],
   "source": [
    "\n",
    "\n",
    "# Find the feasible point based on the initial gues of decision variables\n",
    "x = t.tensor([0.1, 1., 1.], dtype=t.float64, requires_grad=True)\n",
    "x = LMSolve(x)\n",
    "print('Feasible starting point: ', x)\n",
    "print('Reduced gradient:', dfdd(jac(x)))\n",
    "print('Analytical calculation\\n', dfdd_analytical(x))\n",
    "\n",
    " \n",
    "print(\"\\nGRG\\n\")\n",
    "xSol, fVal, alphaSol, eVal = GRG(x)\n",
    "# Convergence analysis\n",
    "\n",
    "# Plot results\n",
    "print(\"\\nConvergence plot\\n\")\n",
    "plt.plot(range(1, len(fVal)+1), eVal, \"rs-\")\n",
    "# plt.xlim(1, 50)\n",
    "plt.xticks(ticks=range(1, len(fVal)+1), labels=range(1, len(fVal)+1))\n",
    "plt.xlabel(\"Iterations (k)\")\n",
    "plt.ylabel(\"Error\")\n",
    "plt.title(\"Convergence analysis\")\n",
    "plt.grid(axis='y', color='0.95')\n",
    "plt.show()\n"
   ]
  },
  {
   "cell_type": "code",
   "execution_count": 92,
   "id": "d06de44a-f8d0-4980-9497-259b719036fe",
   "metadata": {},
   "outputs": [],
   "source": [
    "# # Plot data\n",
    "# x0, x1, x2 = np.mgrid[-2:2:50j, -2:2:50j, -5:5:50j]\n",
    "# f([x0, x1, x2])[0]\n",
    "\n",
    "# fig1 = plt.figure(figsize=(10,10))\n",
    "# ax1 = fig1.add_subplot(111, projection='3d')\n",
    "\n",
    "# ax1.scatter([x0, x1, x2], f([x0, x1, x2]), alpha=0.5, cmap=\"rainbow\", label=\"Actual function\")\n",
    "# # ax1.scatter(xp[:, 0], xp[:, 1], yp, alpha=1, color=\"black\", label=\"Initial point\", linewidth=2)\n",
    "# ax1.set_xlabel(\"[x1]\")\n",
    "# ax1.set_ylabel(\"[x2]\")\n",
    "# ax1.set_zlabel(\"[f]\")\n",
    "# ax1.set_title(\"Function plot with initial samples\")\n",
    "# plt.show()"
   ]
  },
  {
   "cell_type": "markdown",
   "id": "a9d7a7fa-9aeb-4402-852b-b6d9693b7fae",
   "metadata": {},
   "source": [
    "## Problem 5"
   ]
  },
  {
   "cell_type": "code",
   "execution_count": null,
   "id": "24e2eacf-4bc7-4691-83b6-47245ea6269b",
   "metadata": {},
   "outputs": [],
   "source": []
  },
  {
   "cell_type": "code",
   "execution_count": null,
   "id": "60ef95de-8563-4112-8c40-160930de8e26",
   "metadata": {},
   "outputs": [],
   "source": []
  }
 ],
 "metadata": {
  "kernelspec": {
   "display_name": "Python 3 (ipykernel)",
   "language": "python",
   "name": "python3"
  },
  "language_info": {
   "codemirror_mode": {
    "name": "ipython",
    "version": 3
   },
   "file_extension": ".py",
   "mimetype": "text/x-python",
   "name": "python",
   "nbconvert_exporter": "python",
   "pygments_lexer": "ipython3",
   "version": "3.9.12"
  }
 },
 "nbformat": 4,
 "nbformat_minor": 5
}
