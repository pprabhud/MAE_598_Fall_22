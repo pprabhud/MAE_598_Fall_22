{
 "cells": [
  {
   "cell_type": "markdown",
   "id": "fc391ee7-fa2d-4aa4-a7df-e0940989ec89",
   "metadata": {},
   "source": [
    "## SQP"
   ]
  },
  {
   "cell_type": "code",
   "execution_count": 1,
   "id": "7fdd9e4d-2980-4998-9189-598ca3793abc",
   "metadata": {},
   "outputs": [],
   "source": [
    "# QP\n",
    "\n",
    "# Linesearch with penalty\n",
    "\n",
    "# Active set strategy\n",
    "\n",
    "# BFGS for approximating Hessian\n",
    "\n"
   ]
  },
  {
   "cell_type": "code",
   "execution_count": 2,
   "id": "d84531af-e3d1-4123-8fcc-f3eb9692a793",
   "metadata": {},
   "outputs": [],
   "source": [
    "# Import libraries\n",
    "import torch as t\n",
    "import numpy as np\n",
    "from matplotlib import pyplot as plt\n",
    "\n",
    "import torch.nn as nn\n",
    "from torch.autograd import Variable\n",
    "from torch.autograd.functional import jacobian, hessian"
   ]
  },
  {
   "cell_type": "code",
   "execution_count": 13,
   "id": "8646cb54-ac25-47aa-b520-953a22604305",
   "metadata": {},
   "outputs": [],
   "source": [
    "# Part 1\n",
    "\"\"\"\n",
    "Decision variable: x0\n",
    "State variables: x1\n",
    "\"\"\"\n",
    "\n",
    "\n",
    "\n",
    "m = 2 # No. of constraints\n",
    "n = 2 # No. of variables\n",
    "d = n - m # No. of decision variables\n",
    "\n",
    "\n",
    "def f(x):\n",
    "    # Define the objective function\n",
    "    f = lambda x: x[0] ** 2 + (x[1] - 3) ** 2\n",
    "    # Define the constraints\n",
    "    g1 = lambda x: (x[1] ** 2) - (2 * x[0])\n",
    "    g2 = lambda x: (x[1] - 1) ** 2 + (5 * x[0]) - 15\n",
    "    \n",
    "    return f(x), g1(x), g2(x)\n",
    "\n",
    "\n",
    "def Lag(x, mu):\n",
    "    # Define the Lagrangian\n",
    "    # L = lambda x: x[0] ** 2 + (x[1] - 3) ** 2 + mu[0] * ((x[1] ** 2) - (2 * x[0])) + mu[1] * ((x[1] - 1) ** 2 + (5 * x[0]) - 15)\n",
    "    \n",
    "        # Define the objective function\n",
    "    f = lambda x: x[0] ** 2 + (x[1] - 3) ** 2\n",
    "    # Define the constraints\n",
    "    g1 = lambda x: (x[1] ** 2) - (2 * x[0])\n",
    "    g2 = lambda x: (x[1] - 1) ** 2 + (5 * x[0]) - 15\n",
    "\n",
    "    return f(x) + mu.T @ t.tensor([[g1(x)], [g2(x)]])\n",
    "    # return f(x) + mu[0] * g1(x) + mu[1] * g2(x)\n"
   ]
  },
  {
   "cell_type": "code",
   "execution_count": 14,
   "id": "ecff11ac-0d73-42b6-af12-c10a9e84195a",
   "metadata": {},
   "outputs": [],
   "source": [
    "# Compute Jacobian\n",
    "def jac(x, n=n):\n",
    "    J = t.zeros((m+1, n))\n",
    "    for i in range(m+1):\n",
    "       J[i] =  jacobian(f, (x))[i] # 'jacobian' function in Pytorch returns a tuple of tensors. Copying each tensor slice into a new tensor for the ease of indexing.\n",
    "    return J\n",
    "\n",
    "\n",
    "# Compute Jacobian\n",
    "def jacL(x, mu, n=n):\n",
    "    J = t.zeros((1, n))\n",
    "    # for i in range(n):\n",
    "    J[0] =  jacobian(Lag, (x, mu))[0] # 'jacobian' function in Pytorch returns a tuple of tensors. Copying each tensor slice into a new tensor for the ease of indexing.\n",
    "    return J\n",
    "\n",
    "# Evaluate Constraints\n",
    "def hFunc(x, m=m, n=n):\n",
    "    H = t.zeros((m, 1))\n",
    "    for i in range(m):\n",
    "        H[i] =  f(x)[d + i]\n",
    "    return H\n",
    "\n",
    "# Part 3\n",
    "# Calculate the Reduced gradient from the jacobian\n",
    "dfdd = lambda J: J[0,0] - J[0,1:] @ t.pinverse(J[1:,1:]) @ J[1:,0]"
   ]
  },
  {
   "cell_type": "code",
   "execution_count": 66,
   "id": "6a97a7d6-95d9-4722-a26e-0b3710ab8e07",
   "metadata": {},
   "outputs": [
    {
     "data": {
      "text/plain": [
       "tensor([[ 2., -4.]])"
      ]
     },
     "execution_count": 66,
     "metadata": {},
     "output_type": "execute_result"
    }
   ],
   "source": [
    "x = t.tensor([1., 1.], dtype=t.float64, requires_grad=True)\n",
    "mu = t.tensor([0., 0.], dtype=t.float64, requires_grad=True)\n",
    "\n",
    "W = t.eye(n)\n",
    "# mu = t.tensor([0., 0.], dtype=t.float64)\n",
    "\n",
    "# jacobian(Lag, (x, mu))\n",
    "\n",
    "\n",
    "J =  jacL(x, mu)\n",
    "\n",
    "# J =  jac(x)\n",
    "# # Lag(x)\n",
    "A = jac(x)[1:, :]\n",
    "A\n",
    "J"
   ]
  },
  {
   "cell_type": "code",
   "execution_count": 145,
   "id": "059f53c0-91ca-4279-9c83-711f156d9cff",
   "metadata": {},
   "outputs": [],
   "source": [
    "A = t.tensor([[-100],[10],[-1]])"
   ]
  },
  {
   "cell_type": "code",
   "execution_count": 147,
   "id": "b9223f4b-5fa1-48b2-88f3-e000a7496b76",
   "metadata": {},
   "outputs": [
    {
     "data": {
      "text/plain": [
       "tensor([0])"
      ]
     },
     "execution_count": 147,
     "metadata": {},
     "output_type": "execute_result"
    }
   ],
   "source": [
    "val1 , idx1 = t.max(hFunc(x) > 0, 0)\n",
    "idx1"
   ]
  },
  {
   "cell_type": "code",
   "execution_count": 136,
   "id": "d064caf9-b15d-495a-9414-d424d1e69e83",
   "metadata": {},
   "outputs": [],
   "source": []
  },
  {
   "cell_type": "code",
   "execution_count": 139,
   "id": "e589d2a7-77d7-4df6-bbc2-85abfb7a109c",
   "metadata": {},
   "outputs": [
    {
     "data": {
      "text/plain": [
       "2"
      ]
     },
     "execution_count": 139,
     "metadata": {},
     "output_type": "execute_result"
    }
   ],
   "source": [
    "ans.sum().item()"
   ]
  },
  {
   "cell_type": "code",
   "execution_count": 128,
   "id": "ab79d550-68b9-4a58-9d7c-ade99d7fe202",
   "metadata": {},
   "outputs": [
    {
     "data": {
      "text/plain": [
       "tensor([[1]])"
      ]
     },
     "execution_count": 128,
     "metadata": {},
     "output_type": "execute_result"
    }
   ],
   "source": [
    "A[idx]"
   ]
  },
  {
   "cell_type": "code",
   "execution_count": 80,
   "id": "b19a3fcb-b947-4fd7-9b97-950bff9a65fd",
   "metadata": {},
   "outputs": [],
   "source": [
    "mu = t.tensor([[-1], [0], [-5]])"
   ]
  },
  {
   "cell_type": "code",
   "execution_count": 81,
   "id": "1bd31659-2ec5-4d2f-8ff5-658fc21bfad0",
   "metadata": {},
   "outputs": [
    {
     "data": {
      "text/plain": [
       "tensor([[ True],\n",
       "        [False],\n",
       "        [ True]])"
      ]
     },
     "execution_count": 81,
     "metadata": {},
     "output_type": "execute_result"
    }
   ],
   "source": [
    "mu<0"
   ]
  },
  {
   "cell_type": "code",
   "execution_count": 82,
   "id": "b6a710d9-fc2c-4b20-9042-88000a937500",
   "metadata": {},
   "outputs": [
    {
     "data": {
      "text/plain": [
       "tensor([2])"
      ]
     },
     "execution_count": 82,
     "metadata": {},
     "output_type": "execute_result"
    }
   ],
   "source": [
    "val, idx = t.min(mu, 0)\n",
    "idx"
   ]
  },
  {
   "cell_type": "code",
   "execution_count": 83,
   "id": "9a08b881-3b64-4349-bb93-47adeacd919b",
   "metadata": {},
   "outputs": [
    {
     "data": {
      "text/plain": [
       "tensor([[-5]])"
      ]
     },
     "execution_count": 83,
     "metadata": {},
     "output_type": "execute_result"
    }
   ],
   "source": [
    "mu[idx]"
   ]
  },
  {
   "cell_type": "code",
   "execution_count": null,
   "id": "a22997c3-07b2-4052-a198-3d7817aadedf",
   "metadata": {},
   "outputs": [],
   "source": []
  },
  {
   "cell_type": "code",
   "execution_count": 91,
   "id": "52d636cd-919e-4bab-bc01-430cb303c226",
   "metadata": {},
   "outputs": [
    {
     "data": {
      "text/plain": [
       "tensor([[  0.],\n",
       "        [-14.]])"
      ]
     },
     "execution_count": 91,
     "metadata": {},
     "output_type": "execute_result"
    }
   ],
   "source": [
    "x = t.tensor([0., 0.], dtype=t.float, requires_grad=True)\n",
    "mu = t.tensor([0., 0.], dtype=t.float, requires_grad=True)\n",
    "m = t.eye(n)\n",
    "\n",
    "_ , A = Lag(x, mu)\n",
    "\n",
    "A"
   ]
  },
  {
   "cell_type": "code",
   "execution_count": 84,
   "id": "a4a21c89-6f63-47ed-9084-522a7d339136",
   "metadata": {},
   "outputs": [
    {
     "data": {
      "text/plain": [
       "tensor([0])"
      ]
     },
     "execution_count": 84,
     "metadata": {},
     "output_type": "execute_result"
    }
   ],
   "source": [
    "_, idx1 = t.max(A > 0, 0)\n",
    "idx1\n"
   ]
  },
  {
   "cell_type": "code",
   "execution_count": 89,
   "id": "f81d8316-a615-47bb-acdc-c030344a19dc",
   "metadata": {},
   "outputs": [],
   "source": [
    "mu = t.tensor([[0], [5]])\n",
    "val2, idx2 = t.min(mu, 0)"
   ]
  },
  {
   "cell_type": "code",
   "execution_count": 155,
   "id": "8253754a-e2a2-41a5-80df-614fab7dc6a9",
   "metadata": {},
   "outputs": [],
   "source": [
    "active = []\n",
    "add = []\n",
    "remove = []"
   ]
  },
  {
   "cell_type": "code",
   "execution_count": 156,
   "id": "6c7da972-b777-46b2-a3e1-fe8cf3aaa102",
   "metadata": {},
   "outputs": [],
   "source": [
    "val1 , idx1 = t.max(hFunc(x) > 0, 0)\n",
    "\n",
    "if val1 == True:\n",
    "    add.append(idx1.item())"
   ]
  },
  {
   "cell_type": "code",
   "execution_count": 157,
   "id": "44a659e7-d656-44eb-8f2c-f3c6b3222d5c",
   "metadata": {},
   "outputs": [],
   "source": [
    "val2 , idx2 = t.max(mu < 0, 0)\n",
    "\n",
    "if val2 == True:\n",
    "    remove.append(idx2.item())"
   ]
  },
  {
   "cell_type": "code",
   "execution_count": 158,
   "id": "9c9d0404-5e53-486a-9573-8dc4f2a4232e",
   "metadata": {},
   "outputs": [
    {
     "ename": "ValueError",
     "evalue": "list.remove(x): x not in list",
     "output_type": "error",
     "traceback": [
      "\u001b[1;31m---------------------------------------------------------------------------\u001b[0m",
      "\u001b[1;31mValueError\u001b[0m                                Traceback (most recent call last)",
      "Input \u001b[1;32mIn [158]\u001b[0m, in \u001b[0;36m<cell line: 2>\u001b[1;34m()\u001b[0m\n\u001b[0;32m      1\u001b[0m active\u001b[38;5;241m.\u001b[39mappend(add)\n\u001b[1;32m----> 2\u001b[0m \u001b[43mactive\u001b[49m\u001b[38;5;241;43m.\u001b[39;49m\u001b[43mremove\u001b[49m\u001b[43m(\u001b[49m\u001b[43mremove\u001b[49m\u001b[43m)\u001b[49m\n",
      "\u001b[1;31mValueError\u001b[0m: list.remove(x): x not in list"
     ]
    }
   ],
   "source": [
    "active.append(add)\n",
    "active.remove(remove)"
   ]
  },
  {
   "cell_type": "code",
   "execution_count": 62,
   "id": "c72df2c2-89f1-4681-918d-604549ace4f0",
   "metadata": {
    "tags": []
   },
   "outputs": [],
   "source": [
    "def QP(x, W, A):\n",
    "    # W = t.eye(n)\n",
    "    A = jac(x)[1:, :]\n",
    "    fx = jac(x)[0]\n",
    "    h = hFunc(x)\n",
    "\n",
    "\n",
    "    C = t.vstack((t.hstack((W, A.T)), t.hstack((A, t.zeros(A.shape[0], A.shape[0])))))\n",
    "    C\n",
    "\n",
    "    D = - t.vstack((fx.reshape(-1, 1), h)) # Check if this negative sign is important\n",
    "    D\n",
    "\n",
    "    X = t.linalg.solve(C, D)\n",
    "    s = X[:n, :]\n",
    "    mu = X[n:, :]\n",
    "    \n",
    "    return s, mu"
   ]
  },
  {
   "cell_type": "code",
   "execution_count": null,
   "id": "934c2fe3-c1d5-4ad1-93c8-706d61907d6d",
   "metadata": {},
   "outputs": [],
   "source": []
  },
  {
   "cell_type": "code",
   "execution_count": null,
   "id": "94589a39-ded5-4a93-a25b-984c067d441b",
   "metadata": {},
   "outputs": [],
   "source": [
    "def activeSet(W, x, s, dx, mu):\n",
    "    (t.max(A) == 0)\n",
    "    "
   ]
  },
  {
   "cell_type": "code",
   "execution_count": 55,
   "id": "f6cfd46d-1b57-499b-b4b6-738069458aa6",
   "metadata": {},
   "outputs": [],
   "source": [
    "# Armijo Line \n",
    "def F(alpha, x, wj, A):\n",
    "    F = f(x)[0] + t.sum(wj.T @ t.max(t.tensor([0]), A))\n",
    "    return F\n",
    "\n",
    "def phi(alpha, x, wj, A, t0=0.5):\n",
    "    phi = F(alpha, x, wj, A) + t0 * alpha * dFda\n",
    "    \n",
    "    return phi\n",
    "\n",
    "def dFda(alpha, x, s, wj, A):\n",
    "    J =  jac(x)\n",
    "    \n",
    "    dgdx = J[1:, :]\n",
    "    \n",
    "    dgda = dgdx @ s\n",
    "    \n",
    "    dgda[(t.max(t.tensor([0]), A) == 0)] = 0\n",
    "    \n",
    "    dFda = J[0, :].T @ s + t.sum(wj.T @ t.max(t.tensor([0]), A))\n",
    "    \n",
    "    return dFda\n",
    "\n",
    "def lineSearch(x, s, mu, K=25):\n",
    "    alpha = 1\n",
    "    i = 0\n",
    "    wj = t.abs(mu)\n",
    "    \n",
    "    while F(alpha, x, wj, A) > phi(alpha, x, wj, A) and i < K:\n",
    "        alpha = 0.5 * alpha\n",
    "        wj = t.max(t.abs(mu), 0.5 * (wj + t.abs(mu)))\n",
    "        i += 1\n",
    "    return alpha"
   ]
  },
  {
   "cell_type": "code",
   "execution_count": null,
   "id": "93a13602-a4b4-49fb-9f87-bde00bc22df2",
   "metadata": {},
   "outputs": [],
   "source": [
    "def BFGS(W, x, s, dx, mu):\n",
    "    Lx0 =  jacL(x - dx, mu)\n",
    "    Lx1 =  jacL(x, mu)\n",
    "    Q = dx.T @ W @ dx\n",
    "    if dx.T @ (Lx1 - Lx0) >= 0.2 * Q:\n",
    "        theta = 1\n",
    "    else:\n",
    "        theta = (0.8 * Q) / (Q - dx.T @ (Lx1 - Lx0))\n",
    "    \n",
    "    y = theta * (Lx1 - Lx0) + (1 - theta) * (W @ dx)\n",
    "    \n",
    "    W = W + ((y @ y.T) / (y.T @ s)) - ((W @ s @ s.T @ W) / (s.T @ H @ s))\n",
    "    \n",
    "    return W\n",
    "    \n",
    "    "
   ]
  },
  {
   "cell_type": "code",
   "execution_count": null,
   "id": "8aba505d-e32a-4b54-8c3e-072514fb998c",
   "metadata": {},
   "outputs": [],
   "source": []
  },
  {
   "cell_type": "code",
   "execution_count": null,
   "id": "c815f7f1-fde2-42bc-960b-a1898cde0395",
   "metadata": {},
   "outputs": [],
   "source": []
  },
  {
   "cell_type": "code",
   "execution_count": null,
   "id": "c7f76216-7473-4496-a178-ea6ae3221eb0",
   "metadata": {},
   "outputs": [],
   "source": []
  },
  {
   "cell_type": "code",
   "execution_count": null,
   "id": "b6fbb998-23d3-4215-af65-2a2e1e57791c",
   "metadata": {},
   "outputs": [],
   "source": []
  },
  {
   "cell_type": "code",
   "execution_count": null,
   "id": "da2cb977-eebf-4b9c-b9a6-1cbac9d724bb",
   "metadata": {},
   "outputs": [],
   "source": []
  },
  {
   "cell_type": "code",
   "execution_count": null,
   "id": "6f166ba6-bfc1-4978-93fa-bfe2c1c5a55e",
   "metadata": {},
   "outputs": [],
   "source": []
  },
  {
   "cell_type": "code",
   "execution_count": null,
   "id": "ae193bcd-5721-421a-b898-96812cf2cdba",
   "metadata": {},
   "outputs": [],
   "source": []
  },
  {
   "cell_type": "code",
   "execution_count": null,
   "id": "7f623240-8d52-42d6-abc1-d29586007669",
   "metadata": {},
   "outputs": [],
   "source": []
  },
  {
   "cell_type": "code",
   "execution_count": null,
   "id": "286c8d11-7da8-4971-98b5-25e328426c7c",
   "metadata": {},
   "outputs": [],
   "source": []
  },
  {
   "cell_type": "code",
   "execution_count": null,
   "id": "1e953ea7-ab2f-4452-82dc-6d7b57c3ce94",
   "metadata": {},
   "outputs": [],
   "source": []
  }
 ],
 "metadata": {
  "kernelspec": {
   "display_name": "Python 3 (ipykernel)",
   "language": "python",
   "name": "python3"
  },
  "language_info": {
   "codemirror_mode": {
    "name": "ipython",
    "version": 3
   },
   "file_extension": ".py",
   "mimetype": "text/x-python",
   "name": "python",
   "nbconvert_exporter": "python",
   "pygments_lexer": "ipython3",
   "version": "3.9.12"
  }
 },
 "nbformat": 4,
 "nbformat_minor": 5
}
