{
 "cells": [
  {
   "cell_type": "markdown",
   "id": "e2692dab-fd20-4cce-a586-0bb4f37481f0",
   "metadata": {},
   "source": [
    "# MAE 598 Project 1"
   ]
  },
  {
   "cell_type": "code",
   "execution_count": null,
   "id": "858344ef-e0c4-4aa4-a248-572cbab5f481",
   "metadata": {},
   "outputs": [],
   "source": []
  },
  {
   "cell_type": "code",
   "execution_count": null,
   "id": "aff6131a-e31f-481e-8288-4febb801ff47",
   "metadata": {},
   "outputs": [],
   "source": []
  },
  {
   "cell_type": "markdown",
   "id": "6717310f-4368-4e7d-83ac-f13aa6573b59",
   "metadata": {},
   "source": [
    "### Code"
   ]
  },
  {
   "cell_type": "code",
   "execution_count": 18,
   "id": "c8bba65b-b238-4668-8d3a-973e7e7ea7dc",
   "metadata": {},
   "outputs": [],
   "source": [
    "# overhead\n",
    "\n",
    "# import math\n",
    "import random\n",
    "import numpy as np\n",
    "import time\n",
    "import matplotlib.pyplot as plt\n",
    "\n",
    "import torch as t\n",
    "import torch.nn as nn\n",
    "from torch import optim\n",
    "from torch.nn import utils\n",
    "import logging\n",
    "\n",
    "logger = logging.getLogger(__name__)"
   ]
  },
  {
   "cell_type": "code",
   "execution_count": 19,
   "id": "c32ed4b5-356b-4a72-bcee-89f97d5cf6ca",
   "metadata": {},
   "outputs": [],
   "source": [
    "# environment parameters\n",
    "\n",
    "FRAME_TIME = 0.1  # time interval\n",
    "GRAVITY_ACCEL = 0.12  # gravity constant\n",
    "BOOST_ACCEL = 0.18  # thrust constant\n",
    "\n",
    "# # the following parameters are not being used in the sample code\n",
    "# PLATFORM_WIDTH = 0.25  # landing platform width\n",
    "# PLATFORM_HEIGHT = 0.06  # landing platform height\n",
    "# ROTATION_ACCEL = 20  # rotation constant"
   ]
  },
  {
   "cell_type": "code",
   "execution_count": 20,
   "id": "c5e258bf-90ad-4aea-89b1-484870e2a493",
   "metadata": {},
   "outputs": [
    {
     "data": {
      "text/plain": [
       "<torch.autograd.anomaly_mode.set_detect_anomaly at 0x26e787a6400>"
      ]
     },
     "execution_count": 20,
     "metadata": {},
     "output_type": "execute_result"
    }
   ],
   "source": [
    "# define system dynamics\n",
    "# Notes: \n",
    "# 0. You only need to modify the \"forward\" function\n",
    "# 1. All variables in \"forward\" need to be PyTorch tensors.\n",
    "# 2. All math operations in \"forward\" has to be differentiable, e.g., default PyTorch functions.\n",
    "# 3. Do not use inplace operations, e.g., x += 1. Please see the following section for an example that does not work.\n",
    "\n",
    "class Dynamics(nn.Module):\n",
    "\n",
    "    def __init__(self):\n",
    "        super(Dynamics, self).__init__()\n",
    "\n",
    "    @staticmethod\n",
    "    def forward(state, action):\n",
    "\n",
    "        \"\"\"\n",
    "        state:\n",
    "        state[0] = x\n",
    "        state[1] = y\n",
    "        state[2] = x_dot\n",
    "        state[3] = y_dot\n",
    "        state[4] = theta\n",
    "        \n",
    "        action:\n",
    "        action[0]: thrust\n",
    "        action[1]: step angle\n",
    "        \"\"\"\n",
    "\n",
    "        # State change in the next time step\n",
    "        # state = t.tensor(state).float()\n",
    "        step_mat = t.tensor([[1., FRAME_TIME, 0., 0., 0.],\n",
    "                             [0., 1., 0., 0., 0.],\n",
    "                             [0., 0., 1., FRAME_TIME, 0.],\n",
    "                             [0., 0., 0., 1., 0.],\n",
    "                             [0., 0., 0., 0., 1.]])\n",
    "        state1 = t.matmul(state, step_mat)\n",
    "        \n",
    "        # Apply thrust and angular control\n",
    "        delta_state_1 = BOOST_ACCEL * FRAME_TIME * -0.5 * (FRAME_TIME ** 2) * t.sin(state[:, 4].reshape(-1, 1))\n",
    "        delta_state_2 = BOOST_ACCEL * FRAME_TIME * -0.5 * (FRAME_TIME ** 2) * t.cos(state[:, 4].reshape(-1, 1))\n",
    "        delta_state_3 = BOOST_ACCEL * FRAME_TIME * -FRAME_TIME * t.sin(state[:, 4].reshape(-1, 1))\n",
    "        delta_state_4 = BOOST_ACCEL * FRAME_TIME * FRAME_TIME * t.cos(state[:, 4].reshape(-1, 1))\n",
    "\n",
    "        zeros_col = t.zeros(len(state[:, 4]), 1)\n",
    "        ones_col = t.ones(len(state[:, 4]), 1)\n",
    "\n",
    "        delta_state_mat1 = t.cat((delta_state_1, delta_state_2, delta_state_3, delta_state_4, zeros_col), dim=1)\n",
    "        delta_state_mat2 = t.cat((t.zeros(len(state[:, 4]), dim_input-1), ones_col), dim=1)\n",
    "\n",
    "        delta_state_alpha = t.mul(action[:, 0].reshape(-1, 1), delta_state_mat1)\n",
    "        delta_state_theta = t.mul(action[:, 1].reshape(-1, 1), delta_state_mat2)\n",
    "        \n",
    "        # Apply gravity\n",
    "        delta_state_g = t.tensor([0., -0.5 * GRAVITY_ACCEL * (FRAME_TIME ** 2), 0., 0., 0.])\n",
    "        delta_state_gravity = t.mul(t.ones(len(state[:, 4]), 1), delta_state_g)\n",
    "        \n",
    "        # Update state\n",
    "        state_next = state + delta_state_alpha + delta_state_theta + delta_state_gravity\n",
    "\n",
    "        return state_next\n",
    "    \n",
    "t.autograd.set_detect_anomaly(True)"
   ]
  },
  {
   "cell_type": "code",
   "execution_count": 21,
   "id": "132dec7e-901f-45ba-be76-1a111059926b",
   "metadata": {},
   "outputs": [],
   "source": [
    "# Deterministic controller\n",
    "\n",
    "class Controller(nn.Module):\n",
    "\n",
    "    def __init__(self, dim_input, dim_hidden, dim_output):\n",
    "        \"\"\"\n",
    "        dim_input: # of system states\n",
    "        dim_output: # of actions\n",
    "        dim_hidden: up to you\n",
    "        \"\"\"\n",
    "        super(Controller, self).__init__()\n",
    "        self.network = nn.Sequential(\n",
    "            nn.Linear(dim_input, dim_hidden),\n",
    "            nn.Tanh(),\n",
    "            # nn.Linear(dim_hidden, dim_hidden),\n",
    "            # nn.Tanh(),\n",
    "            nn.Linear(dim_hidden, dim_output),         \n",
    "            nn.Sigmoid()\n",
    "        )\n",
    "\n",
    "    def forward(self, state):\n",
    "        action = self.network(state)\n",
    "        # print('state:', state)\n",
    "        # print(action)\n",
    "        return action"
   ]
  },
  {
   "cell_type": "code",
   "execution_count": 22,
   "id": "97148d1f-1ae9-4546-adc8-5fed496d0d12",
   "metadata": {},
   "outputs": [],
   "source": [
    "# the simulator that rolls out x(1), x(2), ..., x(T)\n",
    "# Note:\n",
    "# 0. Need to change \"initialize_state\" to optimize the controller over a distribution of initial states\n",
    "# 1. self.action_trajectory and self.state_trajectory stores the action and state trajectories along time\n",
    "\n",
    "class Simulation(nn.Module):\n",
    "\n",
    "    def __init__(self, controller, dynamics, T):\n",
    "        super(Simulation, self).__init__()\n",
    "        self.state = self.initialize_state()\n",
    "        self.controller = controller\n",
    "        self.dynamics = dynamics\n",
    "        self.T = T\n",
    "        self.action_trajectory = []\n",
    "        self.state_trajectory = []\n",
    "\n",
    "    def forward(self, state):\n",
    "        self.action_trajectory = []\n",
    "        self.state_trajectory = []\n",
    "        for _ in range(T):\n",
    "            action = self.controller.forward(state)\n",
    "            state = self.dynamics.forward(state, action)\n",
    "            self.action_trajectory.append(action)\n",
    "            self.state_trajectory.append(state)\n",
    "        return self.error(state)\n",
    "\n",
    "    @staticmethod\n",
    "    def initialize_state():\n",
    "        batch_sz = 4\n",
    "        bounds = np.array([[-1, 1], [0, 10], [0, 5], [0, 5], [0, 90]])\n",
    "        state = np.random.uniform(bounds[:, 0], bounds[:, 1], (batch_sz, bounds.shape[0]))\n",
    "        # state = state.reshape(state.shape[0], state.shape[1], 1)\n",
    "        # state = [1., 0., 0., 0., 0.]  # TODO: need batch of initial states\n",
    "        return t.tensor(state, requires_grad=False).float()\n",
    "\n",
    "    def error(self, state):\n",
    "        error = t.sum(state[:, 0]**2 + state[:, 1]**2 + state[:, 2]**2 + state[:, 3]**2 + state[:, 4]**2)\n",
    "        return error.mean()"
   ]
  },
  {
   "cell_type": "code",
   "execution_count": 23,
   "id": "98d23c7c-a501-4a51-99d0-c84310697043",
   "metadata": {},
   "outputs": [],
   "source": [
    "# set up the optimizer\n",
    "# Note:\n",
    "# 0. LBFGS is a good choice if you don't have a large batch size (i.e., a lot of initial states to consider simultaneously)\n",
    "# 1. You can also try SGD and other momentum-based methods implemented in PyTorch\n",
    "# 2. You will need to customize \"visualize\"\n",
    "# 3. loss.backward is where the gradient is calculated (d_loss/d_variables)\n",
    "# 4. self.optimizer.step(closure) is where gradient descent is done\n",
    "\n",
    "class Optimize:\n",
    "    def __init__(self, simulation):\n",
    "        self.simulation = simulation\n",
    "        self.parameters = simulation.controller.parameters()\n",
    "        self.optimizer = optim.LBFGS(self.parameters, lr=0.01)\n",
    "\n",
    "    def step(self):\n",
    "        def closure():\n",
    "            loss = self.simulation(self.simulation.state)\n",
    "            self.optimizer.zero_grad()\n",
    "            loss.backward()\n",
    "            return loss\n",
    "        self.optimizer.step(closure)\n",
    "        return closure()\n",
    "    \n",
    "    def train(self, epochs):\n",
    "        for epoch in range(epochs):\n",
    "            loss = self.step()\n",
    "            print('[%d] loss: %.3f' % (epoch + 1, loss))\n",
    "            data = self.visualize()\n",
    "        return data\n",
    "\n",
    "    def visualize(self):\n",
    "        data = np.array([self.simulation.state_trajectory[i].detach().numpy() for i in range(self.simulation.T)])\n",
    "        print(data.shape)\n",
    "        x = data[:, 2, 0]\n",
    "        y = data[:, 2, 1]\n",
    "        plt.plot(x, y)\n",
    "        plt.show()\n",
    "        return data"
   ]
  },
  {
   "cell_type": "code",
   "execution_count": 24,
   "id": "97232bff-51c0-4be5-a473-1ccb5069a57f",
   "metadata": {},
   "outputs": [
    {
     "name": "stdout",
     "output_type": "stream",
     "text": [
      "[1] loss: 39380.109\n",
      "(100, 4, 5)\n"
     ]
    },
    {
     "data": {
      "image/png": "[encoded data removed]",
      "text/plain": [
       "<Figure size 432x288 with 1 Axes>"
      ]
     },
     "metadata": {
      "needs_background": "light"
     },
     "output_type": "display_data"
    }
   ],
   "source": [
    "# Now it's time to run the code!\n",
    "\n",
    "T = 100  # number of time steps\n",
    "dim_input = 5  # state space dimensions\n",
    "dim_hidden = 6  # latent dimensions\n",
    "dim_output = 2  # action space dimensions\n",
    "d = Dynamics()  # define dynamics\n",
    "c = Controller(dim_input, dim_hidden, dim_output)  # define controller\n",
    "s = Simulation(c, d, T)  # define simulation\n",
    "o = Optimize(s)  # define optimizer\n",
    "data = o.train(1)  # solve the optimization problem"
   ]
  },
  {
   "cell_type": "code",
   "execution_count": 26,
   "id": "e33689e4-0e3a-4236-8105-518e55e836c2",
   "metadata": {},
   "outputs": [
    {
     "data": {
      "text/plain": [
       "(100, 4, 5)"
      ]
     },
     "execution_count": 26,
     "metadata": {},
     "output_type": "execute_result"
    }
   ],
   "source": [
    "data.shape"
   ]
  },
  {
   "cell_type": "code",
   "execution_count": 28,
   "id": "4ccbad63-6ff0-434d-839a-1a079c6ba5f2",
   "metadata": {},
   "outputs": [
    {
     "data": {
      "text/plain": [
       "(100,)"
      ]
     },
     "execution_count": 28,
     "metadata": {},
     "output_type": "execute_result"
    }
   ],
   "source": [
    "data[:, 0, 0].shape"
   ]
  },
  {
   "cell_type": "code",
   "execution_count": 33,
   "id": "6516dd38-bc98-4721-99e1-c7f3c519c578",
   "metadata": {},
   "outputs": [
    {
     "data": {
      "text/plain": [
       "[<matplotlib.lines.Line2D at 0x26e7996d490>]"
      ]
     },
     "execution_count": 33,
     "metadata": {},
     "output_type": "execute_result"
    },
    {
     "data": {
      "image/png": "[encoded data removed]",
      "text/plain": [
       "<Figure size 432x288 with 1 Axes>"
      ]
     },
     "metadata": {
      "needs_background": "light"
     },
     "output_type": "display_data"
    }
   ],
   "source": [
    "plt.plot(data[:, 3, 0], data[:, 3, 1])\n",
    "plt.plot(data[:, 0, 0], data[:, 0, 1])\n",
    "plt.plot(data[:, 1, 0], data[:, 1, 1])"
   ]
  },
  {
   "cell_type": "code",
   "execution_count": null,
   "id": "c264a718-689b-47e2-a130-43130cb25804",
   "metadata": {},
   "outputs": [],
   "source": []
  }
 ],
 "metadata": {
  "kernelspec": {
   "display_name": "Python 3 (ipykernel)",
   "language": "python",
   "name": "python3"
  },
  "language_info": {
   "codemirror_mode": {
    "name": "ipython",
    "version": 3
   },
   "file_extension": ".py",
   "mimetype": "text/x-python",
   "name": "python",
   "nbconvert_exporter": "python",
   "pygments_lexer": "ipython3",
   "version": "3.9.12"
  }
 },
 "nbformat": 4,
 "nbformat_minor": 5
}
